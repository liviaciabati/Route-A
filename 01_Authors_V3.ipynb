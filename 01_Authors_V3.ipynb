{
 "cells": [
  {
   "cell_type": "code",
   "execution_count": null,
   "id": "7d3ac0d4",
   "metadata": {},
   "outputs": [
    {
     "name": "stderr",
     "output_type": "stream",
     "text": [
      "C:\\Users\\livia\\Anaconda3\\lib\\site-packages\\numpy\\_distributor_init.py:30: UserWarning: loaded more than 1 DLL from .libs:\n",
      "C:\\Users\\livia\\Anaconda3\\lib\\site-packages\\numpy\\.libs\\libopenblas.EL2C6PLE4ZYW3ECEVIV3OXXGRN2NRFM2.gfortran-win_amd64.dll\n",
      "C:\\Users\\livia\\Anaconda3\\lib\\site-packages\\numpy\\.libs\\libopenblas.WCDJNK7YVMPZQ2ME2ZZHJJRJ3JIKNDB7.gfortran-win_amd64.dll\n",
      "  warnings.warn(\"loaded more than 1 DLL from .libs:\"\n"
     ]
    }
   ],
   "source": [
    "import csv\n",
    "import json\n",
    "import time\n",
    "import pandas as pd\n",
    "import numpy as np\n",
    "\n",
    "import gender_guesser.detector as gender\n",
    "\n",
    "import requests\n",
    "import re\n",
    "import jellyfish\n",
    "import spacy\n",
    "import geonamescache\n",
    "\n",
    "from functions import *\n",
    "\n",
    "from os import makedirs\n",
    "from os.path import exists, join\n",
    "from unidecode import unidecode\n",
    "from collections import Counter\n",
    "from pandas_profiling import ProfileReport\n",
    "from spacy import displacy \n",
    "from alive_progress import alive_bar\n",
    "\n",
    "nlp = spacy.load(\"en_core_web_lg\")\n",
    "d = gender.Detector()\n",
    "gc = geonamescache.GeonamesCache()\n",
    "# gets nested dictionary for countries\n",
    "countries = gc.get_countries()\n",
    "# gets nested dictionary for cities\n",
    "cities = gc.get_cities()\n",
    "\n",
    "import sys  \n",
    "sys.path.insert(0, 'D:\\Google Drive\\Analises\\Codigos python')\n",
    "from build_features import *\n"
   ]
  },
  {
   "cell_type": "code",
   "execution_count": null,
   "id": "a103d51b",
   "metadata": {},
   "outputs": [],
   "source": [
    "def gen_dict_extract(var, key):\n",
    "    if isinstance(var, dict):\n",
    "        for k, v in var.items():\n",
    "            if k == key:\n",
    "                yield v\n",
    "            if isinstance(v, (dict, list)):\n",
    "                yield from gen_dict_extract(v, key)\n",
    "    elif isinstance(var, list):\n",
    "        for d in var:\n",
    "            yield from gen_dict_extract(d, key)\n",
    "\n",
    "cities = [*gen_dict_extract(cities, 'name')]\n",
    "countries = [*gen_dict_extract(countries, 'name')]\n",
    "\n",
    "countries = [clean_string(country) for country in countries]\n",
    "cities = [clean_string(city) for city in cities]"
   ]
  },
  {
   "cell_type": "code",
   "execution_count": 3,
   "id": "ba29caa3",
   "metadata": {},
   "outputs": [],
   "source": [
    "institutions_list = ['World Health Organization', 'WHO', 'Research', 'Reproductive', 'Study', 'Health', \n",
    "             'GROUP', 'NETWORK', 'Team', 'University', 'Project', 'IEDEA', \n",
    "             'Consortium', 'committee', 'all the authors', 'for IeDEA-Southern Africa', 'Systematic', \n",
    "             'collaborations', 'Organizacion', 'College', 'Consortium', 'Association', 'Survey', 'Expert',\n",
    "             'de la Salud', 'Control','collaborations', 'Collaboration', 'committee', 'Universite', 'BURKINA FASO']\n",
    "institutions_list = [institutions.upper() for institutions in institutions_list]\n",
    "\n",
    "\n",
    "def prepare_std_name(authors):\n",
    "    last_name = []\n",
    "    first_letter_name = []\n",
    "    standard_name = []\n",
    "    for nome in authors['full_name']:\n",
    "        nome = re.sub(' +', ' ', unidecode(nome).replace('-', ' ').strip().upper())\n",
    "        last_name += [nome.split(\" \")[-1]]\n",
    "        first_letter_name += [nome.split(\" \")[0][0]]\n",
    "        standard_name += [nome.split(\" \")[0][0] + \" \" + nome.split(\" \")[-1]]\n",
    "    \n",
    "    authors['last_name'] = last_name\n",
    "    authors['first_letter_name'] = first_letter_name\n",
    "    authors['standard_name'] = standard_name\n",
    "    \n",
    "    return authors\n",
    "\n",
    "def get_longest_name(group):        \n",
    "    names_list = group['unique'].iloc[0].tolist()\n",
    "    candidate_name = unidecode(max(names_list, key=len))\n",
    "\n",
    "    while len(candidate_name.split(' ')) == 1 and len(names_list) > 1:\n",
    "        names_list.remove(candidate_name)\n",
    "        candidate_name = unidecode(max(names_list, key=len))   \n",
    "    return candidate_name\n",
    "\n",
    "\n",
    "def deduplica_nome(inicial_data, column_group, column_agg):\n",
    "    return_data = pd.DataFrame(inicial_data)\n",
    "    names_variation_unique = inicial_data.groupby(column_group)[column_agg].agg(['unique']).reset_index()\n",
    "    #authors.to_csv(path+'names_variation_unique.csv', encoding=\"utf-8\", index=False)\n",
    "\n",
    "    return_data = return_data.reset_index()\n",
    "    for index, row in return_data.iterrows():\n",
    "        group = names_variation_unique[names_variation_unique[column_group] == row[column_group]]\n",
    "        candidate_name = get_longest_name(group)\n",
    "        \n",
    "        return_data.loc[index, 'deduplicated_name_std'] = candidate_name\n",
    "        return_data.loc[index, 'names_variation_std'] = \", \".join(group.unique.iloc[0].tolist())\n",
    "        return_data.loc[index, 'n_variacoes_std'] = len(group.unique.iloc[0].tolist())\n",
    "        #print(row[column_group], candidate_name, \", \".join(group.unique.iloc[0].tolist()), len(group.unique.iloc[0].tolist()))\n",
    "            \n",
    "    return return_data\n",
    "\n",
    "def gess_gender_author(name):\n",
    "    first_name = name.split(' ')[0]\n",
    "    guessed_gender = 'unknown'\n",
    "    \n",
    "    if len(first_name) > 1:\n",
    "        guessed_gender = d.get_gender(first_name.title())\n",
    "    \n",
    "    if guessed_gender =='mostly_female':\n",
    "        guessed_gender = 'female'\n",
    "    if guessed_gender =='mostly_male':\n",
    "        guessed_gender = 'male'\n",
    "    \n",
    "    return guessed_gender\n",
    "\n",
    "\n",
    "def create_deduplicated_columns(authors):\n",
    "    deduplicate_data =  deduplica_nome(authors, \"standard_name\", \"full_name\")    \n",
    "    return deduplicate_data\n",
    "\n",
    "\n",
    "def is_groups_name(nome):\n",
    "    if any(s.upper() in nome.upper() for s in institutions_list):\n",
    "        return True\n",
    "    else:\n",
    "        return False\n",
    "\n",
    "def remove_groups_names(authors):  \n",
    "    institutions = []\n",
    "    for nome in authors.full_name.value_counts().index:\n",
    "        if is_groups_name(nome):\n",
    "            authors = authors[authors.full_name != nome]\n",
    "            if nome not in institutions:\n",
    "                institutions += [nome]\n",
    "                \n",
    "    return authors, institutions\n",
    "\n",
    "\n",
    "def get_list_names(authors, author):\n",
    "    list_names = authors[authors['deduplicated_name_std'] == author].iloc[0]['names_variation_std'].split(\", \")    \n",
    "    return list_names\n",
    "\n",
    "def guess_gender_in_list(list_names, last=False):\n",
    "    #print(list_names)\n",
    "    author_guessed_gender = 'unknown'\n",
    "    index_name = 0\n",
    "    while (author_guessed_gender == 'unknown' and len(list_names) > index_name):\n",
    "        if last:\n",
    "            name = list_names[index_name].split(\" \")[-1]\n",
    "        else:\n",
    "            name = list_names[index_name].split(\" \")[0]\n",
    "            \n",
    "        author_guessed_gender = gess_gender_author(name)\n",
    "        #print(name, author_guessed_gender, index_name)\n",
    "        index_name = index_name + 1\n",
    "    \n",
    "    return author_guessed_gender\n",
    "\n",
    "def remap_affiliation(authors):   \n",
    "    secondary_list = []\n",
    "    authors['countries'] = [[] for i in authors['affiliation']]  \n",
    "    authors['countries'] = authors['countries'].astype('object')\n",
    "    affiliations_unique = pd.read_csv(path+'..\\\\Reviewed Files\\\\01_affiliations_unique_with_countries_v5.csv')\n",
    "    affiliations_unique.original = [clean_string(affiliation, True) for affiliation in affiliations_unique.original]\n",
    "    with alive_bar(len(authors['affiliation']), force_tty=True) as bar:\n",
    "        for index, row in authors.iterrows():\n",
    "            affiliation_list = row['affiliation']\n",
    "            remaped_list = []\n",
    "            country_list = []\n",
    "            if affiliation_list != \"Collaborators\":  \n",
    "                #print(affiliation_list)\n",
    "                affiliations = affiliation_list\n",
    "                \n",
    "                for affiliation in (affiliations):\n",
    "                    if not pd.isnull(affiliation):\n",
    "                        remaps = affiliations_unique.loc[affiliations_unique.original == clean_string(affiliation, True)].reset_index()\n",
    "                        if len(remaps) > 0:\n",
    "                            remaped_list += [remaps.iloc[0]['remap']]\n",
    "                            country_list += [remaps.iloc[0]['country']]\n",
    "                        else:\n",
    "                            print(affiliation)\n",
    "                            remaped_list += [affiliation]\n",
    "                            secondary_list += [clean_string(str(affiliation), True)]\n",
    "                authors.at[index, 'affiliation'] = remaped_list\n",
    "                authors.at[index, 'countries'] = country_list\n",
    "            bar()\n",
    "    df = pd.DataFrame(secondary_list, columns=[\"affiliations_secondary\"])\n",
    "    df.to_csv(path+'secondary_list.csv', index=False)"
   ]
  },
  {
   "cell_type": "markdown",
   "id": "e4403010",
   "metadata": {},
   "source": [
    "# Preparação do banco"
   ]
  },
  {
   "cell_type": "code",
   "execution_count": 4,
   "id": "4afef671",
   "metadata": {},
   "outputs": [
    {
     "name": "stdout",
     "output_type": "stream",
     "text": [
      "4382 \tCount total of retrieved papers\n",
      "0 \tTotal of papers without PMID\n",
      "0 \tTotal of papers with duplicated PMID\n",
      "1 \tTotal of papers without DOI\n",
      "0 \tTotal of papers with duplicated DOI\n",
      "4382 \tTotal of papers after removed nans and duplicated pmids\n",
      "4382\tNumber of unique pmids\n",
      "4382\tNumber rows\n"
     ]
    }
   ],
   "source": [
    "path = 'C:\\\\Users\\\\livia\\\\Dropbox\\\\HRP Alliance authorship paper\\\\Data 2022-12-16\\\\'\n",
    "\n",
    "papers = pd.read_csv(path + 'DatabaseCompleted_v2_VB.csv')\n",
    "if \"Unnamed: 0\" in papers.columns:\n",
    "    papers = papers.drop(\"Unnamed: 0\", axis = 1)\n",
    "papers.reset_index(inplace=True)\n",
    "papers = papers.drop(\"index\", axis = 1)\n",
    "\n",
    "print(len(papers), \"\\tCount total of retrieved papers\")\n",
    "print(sum(papers.pmid.isna()), \"\\tTotal of papers without PMID\")\n",
    "print(sum(papers['pmid'].duplicated()), \"\\tTotal of papers with duplicated PMID\")\n",
    "print(sum(papers['doi'].isna()), \"\\tTotal of papers without DOI\")\n",
    "print(sum(papers['doi'].dropna().duplicated()), \"\\tTotal of papers with duplicated DOI\")\n",
    "\n",
    "papers = papers[~(papers['pmid'].duplicated()) | (papers['pmid'].isna())]\n",
    "print(len(papers), \"\\tTotal of papers after removed nans and duplicated pmids\")\n",
    "\n",
    "\n",
    "print(\"{}\\tNumber of unique pmids\".format(len(papers.pmid.unique())))\n",
    "print(\"{}\\tNumber rows\".format(len(papers)))"
   ]
  },
  {
   "cell_type": "code",
   "execution_count": 5,
   "id": "8d6a2095",
   "metadata": {},
   "outputs": [
    {
     "data": {
      "text/plain": [
       "NaN               3250\n",
       "No HRP authors     929\n",
       "Include            111\n",
       "Not found           91\n",
       "Unclear              1\n",
       "Name: VB check, dtype: int64"
      ]
     },
     "execution_count": 5,
     "metadata": {},
     "output_type": "execute_result"
    }
   ],
   "source": [
    "papers[\"Tags\"].value_counts(dropna=False)\n",
    "papers[\"VB check\"].value_counts(dropna=False)"
   ]
  },
  {
   "cell_type": "code",
   "execution_count": 6,
   "id": "76316391",
   "metadata": {},
   "outputs": [
    {
     "data": {
      "text/plain": [
       "Not included    2873\n",
       "Include         1509\n",
       "Name: Inclusion, dtype: int64"
      ]
     },
     "execution_count": 6,
     "metadata": {},
     "output_type": "execute_result"
    }
   ],
   "source": [
    "papers[\"Inclusion\"] = [\"Include\" if row[\"Tags\"] in [\"Included by VB\", \"Has HRP authors\"] else\n",
    "                         \"Not included\" if row[\"Tags\"] in [\"Not included\"] else\n",
    "                         \"Not included\" if row[\"VB check\"] in [\"No HRP authors\", \"Not found\", \"Unclear\"] else \n",
    "                         \"Include\" if row[\"VB check\"] in [\"Include\"] else \"Unclassifed\" for index, row in papers.iterrows()]\n",
    "papers[\"Inclusion\"].value_counts(dropna=False)"
   ]
  },
  {
   "cell_type": "code",
   "execution_count": 7,
   "id": "43d3573c",
   "metadata": {},
   "outputs": [
    {
     "name": "stdout",
     "output_type": "stream",
     "text": [
      "63\tNumber of papers from 2022+\n",
      "17\tNumber of papers with type Published Erratum\n",
      "1\tNumber of papers with type Interview\n",
      "2873\tNumber of papers not included\n",
      "2873\tPmid to delete\n"
     ]
    }
   ],
   "source": [
    "print(\"{}\\tNumber of papers from 2022+\".format(len(papers[papers.publication_year >= 2022].pmid)))\n",
    "print(\"{}\\tNumber of papers with type Published Erratum\".format(len(papers[papers.publication_type == \"Published Erratum\"].pmid)))\n",
    "print(\"{}\\tNumber of papers with type Interview\".format(len(papers[papers.publication_type == \"Interview\"].pmid)))\n",
    "print(\"{}\\tNumber of papers not included\".format(len(papers[papers.Inclusion == \"Not included\"].pmid)))\n",
    "\n",
    "##pmid_to_delete = list(papers[papers.doi == \"10.1159/000343054\"].pmid) -> interview\n",
    "#pmid_to_delete += [27227232]\n",
    "pmid_to_delete = []\n",
    "pmid_to_delete += list(papers[papers.publication_type == \"Published Erratum\"].pmid)\n",
    "pmid_to_delete += list(papers[papers.publication_type == \"Interview\"].pmid)\n",
    "pmid_to_delete += list(papers[papers.publication_year >= 2022].pmid)\n",
    "pmid_to_delete += list(papers[papers.Inclusion == \"Not included\"].pmid)\n",
    "\n",
    "\n",
    "print(\"{}\\tPmid to delete\".format(len(set(pmid_to_delete))))"
   ]
  },
  {
   "cell_type": "code",
   "execution_count": 8,
   "id": "30ee2242",
   "metadata": {},
   "outputs": [
    {
     "name": "stdout",
     "output_type": "stream",
     "text": [
      "1509 Remained elegible pmids: \n",
      "1509 Number rows\n"
     ]
    }
   ],
   "source": [
    "papers = papers[~papers.pmid.isin(pmid_to_delete)]\n",
    "\n",
    "print(\"{} Remained elegible pmids: \".format(len(papers.pmid.unique())))\n",
    "print(\"{} Number rows\".format(len(papers)))"
   ]
  },
  {
   "cell_type": "code",
   "execution_count": 9,
   "id": "24c55cd6",
   "metadata": {},
   "outputs": [
    {
     "name": "stdout",
     "output_type": "stream",
     "text": [
      "42606 \tTotal of authors *before* drop duplicated\n",
      "38678 \tTotal of authors *after* drop duplicated\n",
      "14607 \tTotal of authors *after* drop excluded pmid\n",
      "14607 \tTotal of authors *after* drop excluded pmid\n",
      "1492\tTotal of pmids in authors file\n",
      "1509\tTotal of pmids in papers file\n",
      "17\tPMIDs diff between authors and papers\n"
     ]
    }
   ],
   "source": [
    "## Read authors file, reset the index, drop duplicated rows\n",
    "authors = pd.read_csv(path + 'authors.csv').reset_index()\n",
    "authors = authors.drop(\"index\", axis = 1)\n",
    "\n",
    "authors = authors.reset_index()\n",
    "if \"Unnamed: 0\" in authors.columns:\n",
    "    authors = authors.drop(\"Unnamed: 0\", axis = 1)\n",
    "authors = authors.drop(\"index\", axis = 1)\n",
    "\n",
    "print(len(authors), \"\\tTotal of authors *before* drop duplicated\")\n",
    "authors.drop_duplicates(inplace=True)\n",
    "print(len(authors), \"\\tTotal of authors *after* drop duplicated\")\n",
    "\n",
    "\n",
    "## Keep only authors with pmid on list of elegible papers\n",
    "elegible_papers_pmid = list(papers.pmid)\n",
    "authors = authors[authors.pmid.isin(elegible_papers_pmid)]\n",
    "print(len(authors), \"\\tTotal of authors *after* drop excluded pmid\")\n",
    "\n",
    "## Remove the authors from papers deleted from the excluded criteria\n",
    "authors = authors[~authors.pmid.isin(pmid_to_delete)]\n",
    "print(len(authors), \"\\tTotal of authors *after* drop excluded pmid\")\n",
    "\n",
    "print(\"{}\\tTotal of pmids in authors file\".format(len(authors.pmid.value_counts())))\n",
    "print(\"{}\\tTotal of pmids in papers file\".format(len(papers.pmid.value_counts(dropna=False))))\n",
    "print(\"{}\\tPMIDs diff between authors and papers\".format(len(papers.pmid.value_counts()) - len(authors.pmid.value_counts())))\n",
    "\n",
    "## Check if the author is a institution or a correpondent group (not an individual)\n",
    "authors[\"is_institutions_name\"] = [False for a in authors.full_name]\n",
    "for index, row in authors.iterrows():\n",
    "    affiliation_list= row['affiliation']\n",
    "    remaped_list = []\n",
    "    country_list = []\n",
    "    if affiliation_list != \"Collaborators\": \n",
    "        affiliations = eval(str(affiliation_list))      \n",
    "    authors.at[index, 'affiliation'] = affiliations\n",
    "    authors.at[index, \"is_institutions_name\"] = is_groups_name(row.full_name)"
   ]
  },
  {
   "cell_type": "markdown",
   "id": "d9080a1a",
   "metadata": {},
   "source": [
    "## Create auxiliar columns to count authorship type"
   ]
  },
  {
   "cell_type": "code",
   "execution_count": 10,
   "id": "454f1114",
   "metadata": {},
   "outputs": [
    {
     "name": "stdout",
     "output_type": "stream",
     "text": [
      "1509\tNumber of pmids\n",
      "1509\tNumber rows\n"
     ]
    }
   ],
   "source": [
    "papers[\"count_authors\"] = [0 for a in papers.authors_list]\n",
    "papers[\"count_authors_institutions\"] = [0 for a in papers.authors_list]\n",
    "papers[\"count_authors_individual\"] = [0 for a in papers.authors_list]\n",
    "\n",
    "papers[\"count_collaborators\"] = [0 for a in papers.authors_list]\n",
    "papers[\"count_collaborators_institutions\"] = [0 for a in papers.authors_list]\n",
    "papers[\"count_collaborators_individual\"] = [0 for a in papers.authors_list]\n",
    "\n",
    "##For each paper, get the author list and count authors\n",
    "for index, row in papers.iterrows():\n",
    "    if not pd.isnull(row.authors_list) and str(row.authors_list) != \"\" and str(row.authors_list).lower() != \"nan\":\n",
    "        authors_list = str(row.authors_list).split(\",\")\n",
    "        papers.at[index, \"count_authors_1\"] = len(authors_list)    \n",
    "        papers.at[index, \"count_authors_institutions_1\"] = sum([1 if any(institutions in authors_name for institutions in institutions_list) else 0 for authors_name in authors_list])\n",
    "        papers.at[index, \"count_authors_individual_1\"] = papers.at[index, \"count_authors\"] - papers.at[index, \"count_authors_institutions\"]\n",
    "    else:\n",
    "        papers.at[index, \"count_authors_1\"] = 0\n",
    "        papers.at[index, \"count_authors_institutions_1\"] = 0\n",
    "        papers.at[index, \"count_authors_individual_1\"] = 0\n",
    "        \n",
    "    authors_list = list(authors[(authors.index_authorship != 0) & (authors.pmid == row.pmid)].full_name)\n",
    "    papers.at[index, \"count_authors\"] = len(authors_list)    \n",
    "    papers.at[index, \"count_authors_institutions\"] = sum([1 if any(institutions in authors_name for institutions in institutions_list) else 0 for authors_name in authors_list])\n",
    "    papers.at[index, \"count_authors_individual\"] = papers.at[index, \"count_authors\"] - papers.at[index, \"count_authors_institutions\"]\n",
    "\n",
    "    collaborators_list = list(authors[(authors.index_authorship == 0) & (authors.pmid == row.pmid)].full_name)\n",
    "    papers.at[index, \"count_collaborators\"] = len(collaborators_list)\n",
    "    papers.at[index, \"count_collaborators_institutions\"] = sum([1 if any(institutions in collaborators_name for institutions in institutions_list) else 0 for collaborators_name in collaborators_list])\n",
    "    papers.at[index, \"count_collaborators_individual\"] = papers.at[index, \"count_collaborators\"] - papers.at[index, \"count_collaborators_institutions\"]\n",
    "        \n",
    "print(\"{}\\tNumber of pmids\".format(len(papers.pmid.unique())))\n",
    "papers.drop_duplicates(inplace=True)\n",
    "print(\"{}\\tNumber rows\".format(len(papers)))\n",
    "#papers.to_csv(path + \"papers_final.csv\", index=False)"
   ]
  },
  {
   "cell_type": "code",
   "execution_count": 11,
   "id": "0fd3d250",
   "metadata": {},
   "outputs": [
    {
     "name": "stdout",
     "output_type": "stream",
     "text": [
      "Total of authors: 11191 \n",
      "Total of collaborators: 3416 \n",
      "Total: 14607 \n",
      "Total: 14607.0\n"
     ]
    }
   ],
   "source": [
    "print(\"Total of authors:\", sum(papers[\"count_authors\"]), \n",
    "        \"\\nTotal of collaborators:\", sum(papers[\"count_collaborators\"]),\n",
    "        \"\\nTotal:\", sum(papers[\"count_authors\"]) + sum(papers[\"count_collaborators\"]),\n",
    "        \"\\nTotal:\", sum(papers[\"count_authors_1\"]) + sum(papers[\"count_collaborators\"])\n",
    "     )"
   ]
  },
  {
   "cell_type": "markdown",
   "id": "c83f8d85",
   "metadata": {},
   "source": [
    "## Validating numbers of authorship"
   ]
  },
  {
   "cell_type": "code",
   "execution_count": 12,
   "id": "4733a05c",
   "metadata": {},
   "outputs": [
    {
     "name": "stdout",
     "output_type": "stream",
     "text": [
      "Papers with only collaborations groups authors:  6\n",
      "Total of individual collaborators on papers with only collaborations groups authors:  453\n",
      "Total of collaborators on papers with only collaborations groups authors:  454\n",
      "\n",
      "Papers with only individual authors:  1409\n",
      "Total of individual authors on papers with only individual authors:  10179\n",
      "Total of individual authors on papers with only individual authors:  0.0\n",
      "Total of authors on papers with only individual authors:  10274\n",
      "Total of authors on papers with only individual authors:  10274.0\n",
      "\n",
      "Papers of individual and collaboration authors:  69\n",
      "Total of individual authors on papers with both types of authors:  831\n",
      "Total of individual authors on papers with both types of authors:  0.0\n",
      "Total of authors on papers with both types of authors:  900\n",
      "Total of colaborators groups on papers with both types of authors:  69\n",
      "Total of colaborators groups on papers with both types of authors:  69.0\n",
      "Total of individual collaborators on papers with both types of authors:  2961\n",
      "Total of collaborators on papers with both types of authors:  2962\n",
      "\n",
      "Papers with no authors:  17\n"
     ]
    }
   ],
   "source": [
    "only_collaboration_groups = papers[(papers[\"count_authors\"] >= 1) & (papers[\"count_authors_individual\"] == 0) & (papers[\"count_collaborators\"] >= 1)]\n",
    "only_individual_authors = papers[(papers[\"count_authors\"] >= 1) & (papers[\"count_authors_individual\"] >= 1) & (papers[\"count_collaborators\"] == 0)]\n",
    "both = papers[(papers[\"count_authors\"] >= 1) & (papers[\"count_authors_individual\"] >= 1) & (papers[\"count_collaborators\"] >= 1)]\n",
    "no_authors = papers[(papers[\"count_authors\"] == 0) & (papers[\"count_collaborators\"] == 0)]\n",
    "\n",
    "print(\"Papers with only collaborations groups authors: \", len(only_collaboration_groups))\n",
    "print(\"Total of individual collaborators on papers with only collaborations groups authors: \", sum(only_collaboration_groups[\"count_collaborators_individual\"]))\n",
    "print(\"Total of collaborators on papers with only collaborations groups authors: \", sum(only_collaboration_groups[\"count_collaborators\"]))\n",
    "\n",
    "print(\"\\nPapers with only individual authors: \", len(only_individual_authors))\n",
    "print(\"Total of individual authors on papers with only individual authors: \", sum(only_individual_authors[\"count_authors_individual\"]))\n",
    "print(\"Total of individual authors on papers with only individual authors: \", sum(only_individual_authors[\"count_authors_individual_1\"]))\n",
    "print(\"Total of authors on papers with only individual authors: \", sum(only_individual_authors[\"count_authors\"]))\n",
    "print(\"Total of authors on papers with only individual authors: \", sum(only_individual_authors[\"count_authors_1\"]))\n",
    "\n",
    "print(\"\\nPapers of individual and collaboration authors: \", len(both))\n",
    "print(\"Total of individual authors on papers with both types of authors: \", sum(both[\"count_authors_individual\"]))\n",
    "print(\"Total of individual authors on papers with both types of authors: \", sum(both[\"count_authors_individual_1\"]))\n",
    "print(\"Total of authors on papers with both types of authors: \", sum(both[\"count_authors\"]))\n",
    "print(\"Total of colaborators groups on papers with both types of authors: \", sum(both[\"count_authors_institutions\"]))\n",
    "print(\"Total of colaborators groups on papers with both types of authors: \", sum(both[\"count_authors_institutions_1\"]))\n",
    "print(\"Total of individual collaborators on papers with both types of authors: \", sum(both[\"count_collaborators_individual\"]))\n",
    "print(\"Total of collaborators on papers with both types of authors: \", sum(both[\"count_collaborators\"]))\n",
    "print(\"\\nPapers with no authors: \", len(no_authors))\n",
    "#papers[(papers[\"count_authors\"] == 0)].doi"
   ]
  },
  {
   "cell_type": "code",
   "execution_count": 13,
   "id": "10cda53c",
   "metadata": {},
   "outputs": [
    {
     "data": {
      "text/plain": [
       "8"
      ]
     },
     "execution_count": 13,
     "metadata": {},
     "output_type": "execute_result"
    }
   ],
   "source": [
    "institutions_pmid = papers[(papers[\"count_authors\"] >= 1) & (papers[\"count_authors_individual\"] == 0) & \n",
    "                           (papers[\"count_authors_institutions\"] >= 1) & (papers[\"count_collaborators\"] == 0)].pmid\n",
    "#authors[authors.pmid.isin(institutions_pmid)]\n",
    "len(institutions_pmid)"
   ]
  },
  {
   "cell_type": "code",
   "execution_count": 14,
   "id": "0ab1e3a9",
   "metadata": {},
   "outputs": [
    {
     "name": "stdout",
     "output_type": "stream",
     "text": [
      "1492\tNumber of pmids\n",
      "14607\tNumber of authors\n",
      "7401\tNumber unique authors\n",
      "\n",
      "\tRemoving institutions\n",
      "1484\tNumber of pmids with authors (here is excluded the papers authored only by an institution and without collaborators)\n",
      "8\tRemoved papers\n",
      "14424\tNumber of authors\n",
      "7267\tNumber unique authors\n",
      "183\tNumber of institutions\n"
     ]
    }
   ],
   "source": [
    "n_papers = len(authors.pmid.value_counts())\n",
    "n_authors = len(authors['full_name'])\n",
    "print(\"{}\\tNumber of pmids\".format(len(authors.pmid.unique())))\n",
    "print(\"{}\\tNumber of authors\".format(n_authors))\n",
    "print(\"{}\\tNumber unique authors\".format(len(authors['full_name'].value_counts())))\n",
    "\n",
    "authors, institutions = remove_groups_names(authors)\n",
    "\n",
    "print(\"\\n\\tRemoving institutions\")\n",
    "print(\"{}\\tNumber of pmids with authors (here is excluded the papers authored only by an institution and without collaborators)\".format(len(authors.pmid.unique())))\n",
    "print(\"{}\\tRemoved papers\".format(n_papers - len(authors.pmid.unique())))\n",
    "print(\"{}\\tNumber of authors\".format(len(authors['full_name'])))\n",
    "print(\"{}\\tNumber unique authors\".format(len(authors['full_name'].value_counts())))\n",
    "\n",
    "\n",
    "print(\"{}\\tNumber of institutions\".format(n_authors - len(authors['full_name'])))\n",
    "#authors.pmid.value_counts()"
   ]
  },
  {
   "cell_type": "code",
   "execution_count": 15,
   "id": "d8cdd296",
   "metadata": {},
   "outputs": [
    {
     "data": {
      "text/plain": [
       "14424"
      ]
     },
     "execution_count": 15,
     "metadata": {},
     "output_type": "execute_result"
    }
   ],
   "source": [
    "len(institutions)\n",
    "len(authors)"
   ]
  },
  {
   "cell_type": "code",
   "execution_count": 16,
   "id": "56ef2cc0",
   "metadata": {},
   "outputs": [
    {
     "data": {
      "text/plain": [
       "False    14424\n",
       "Name: is_institutions_name, dtype: int64"
      ]
     },
     "execution_count": 16,
     "metadata": {},
     "output_type": "execute_result"
    }
   ],
   "source": [
    "authors.is_institutions_name.value_counts(dropna=False)"
   ]
  },
  {
   "cell_type": "code",
   "execution_count": 17,
   "id": "a8970290",
   "metadata": {
    "scrolled": true
   },
   "outputs": [
    {
     "data": {
      "text/html": [
       "<div>\n",
       "<style scoped>\n",
       "    .dataframe tbody tr th:only-of-type {\n",
       "        vertical-align: middle;\n",
       "    }\n",
       "\n",
       "    .dataframe tbody tr th {\n",
       "        vertical-align: top;\n",
       "    }\n",
       "\n",
       "    .dataframe thead th {\n",
       "        text-align: right;\n",
       "    }\n",
       "</style>\n",
       "<table border=\"1\" class=\"dataframe\">\n",
       "  <thead>\n",
       "    <tr style=\"text-align: right;\">\n",
       "      <th></th>\n",
       "      <th>full_name</th>\n",
       "      <th>affiliation</th>\n",
       "      <th>index_authorship</th>\n",
       "      <th>pmid</th>\n",
       "      <th>is_institutions_name</th>\n",
       "      <th>last_name</th>\n",
       "      <th>first_letter_name</th>\n",
       "      <th>standard_name</th>\n",
       "    </tr>\n",
       "  </thead>\n",
       "  <tbody>\n",
       "    <tr>\n",
       "      <th>42600</th>\n",
       "      <td>EMI SUZUKI</td>\n",
       "      <td>[]</td>\n",
       "      <td>6</td>\n",
       "      <td>23584466</td>\n",
       "      <td>False</td>\n",
       "      <td>SUZUKI</td>\n",
       "      <td>E</td>\n",
       "      <td>E SUZUKI</td>\n",
       "    </tr>\n",
       "    <tr>\n",
       "      <th>42601</th>\n",
       "      <td>JOHN WILMOTH</td>\n",
       "      <td>[]</td>\n",
       "      <td>7</td>\n",
       "      <td>23584466</td>\n",
       "      <td>False</td>\n",
       "      <td>WILMOTH</td>\n",
       "      <td>J</td>\n",
       "      <td>J WILMOTH</td>\n",
       "    </tr>\n",
       "  </tbody>\n",
       "</table>\n",
       "</div>"
      ],
      "text/plain": [
       "          full_name affiliation  index_authorship      pmid  \\\n",
       "42600    EMI SUZUKI          []                 6  23584466   \n",
       "42601  JOHN WILMOTH          []                 7  23584466   \n",
       "\n",
       "       is_institutions_name last_name first_letter_name standard_name  \n",
       "42600                 False    SUZUKI                 E      E SUZUKI  \n",
       "42601                 False   WILMOTH                 J     J WILMOTH  "
      ]
     },
     "execution_count": 17,
     "metadata": {},
     "output_type": "execute_result"
    }
   ],
   "source": [
    "authors = prepare_std_name(authors)\n",
    "authors.tail(2)"
   ]
  },
  {
   "cell_type": "code",
   "execution_count": 18,
   "id": "22a49fe1",
   "metadata": {},
   "outputs": [],
   "source": [
    "authors = create_deduplicated_columns(authors)"
   ]
  },
  {
   "cell_type": "code",
   "execution_count": 19,
   "id": "f7dc3716",
   "metadata": {},
   "outputs": [
    {
     "name": "stdout",
     "output_type": "stream",
     "text": [
      "Number of authors: 14424\n",
      "Number unique authors (after deduplication): 5950\n",
      "\n"
     ]
    }
   ],
   "source": [
    "print(\"Number of authors: {}\".format(len(authors)))\n",
    "print(\"Number unique authors (after deduplication): {}\\n\".format(len(authors['deduplicated_name_std'].value_counts())))"
   ]
  },
  {
   "cell_type": "code",
   "execution_count": 20,
   "id": "0851f307",
   "metadata": {},
   "outputs": [
    {
     "data": {
      "text/html": [
       "<div>\n",
       "<style scoped>\n",
       "    .dataframe tbody tr th:only-of-type {\n",
       "        vertical-align: middle;\n",
       "    }\n",
       "\n",
       "    .dataframe tbody tr th {\n",
       "        vertical-align: top;\n",
       "    }\n",
       "\n",
       "    .dataframe thead th {\n",
       "        text-align: right;\n",
       "    }\n",
       "</style>\n",
       "<table border=\"1\" class=\"dataframe\">\n",
       "  <thead>\n",
       "    <tr style=\"text-align: right;\">\n",
       "      <th></th>\n",
       "      <th>index</th>\n",
       "      <th>full_name</th>\n",
       "      <th>affiliation</th>\n",
       "      <th>index_authorship</th>\n",
       "      <th>pmid</th>\n",
       "      <th>is_institutions_name</th>\n",
       "      <th>last_name</th>\n",
       "      <th>first_letter_name</th>\n",
       "      <th>standard_name</th>\n",
       "      <th>deduplicated_name_std</th>\n",
       "      <th>names_variation_std</th>\n",
       "      <th>n_variacoes_std</th>\n",
       "    </tr>\n",
       "  </thead>\n",
       "  <tbody>\n",
       "    <tr>\n",
       "      <th>0</th>\n",
       "      <td>0</td>\n",
       "      <td>SUSANNE JACOBSSON</td>\n",
       "      <td>[WHO COLLABORATING CENTRE FOR GONORRHOEA AND O...</td>\n",
       "      <td>1</td>\n",
       "      <td>30456870</td>\n",
       "      <td>False</td>\n",
       "      <td>JACOBSSON</td>\n",
       "      <td>S</td>\n",
       "      <td>S JACOBSSON</td>\n",
       "      <td>SUSANNE JACOBSSON</td>\n",
       "      <td>SUSANNE JACOBSSON</td>\n",
       "      <td>1.0</td>\n",
       "    </tr>\n",
       "    <tr>\n",
       "      <th>1</th>\n",
       "      <td>1</td>\n",
       "      <td>IRYNA BOIKO</td>\n",
       "      <td>[CLINICAL LABORATORY DEPARTMENT TERNOPIL REGIO...</td>\n",
       "      <td>2</td>\n",
       "      <td>30456870</td>\n",
       "      <td>False</td>\n",
       "      <td>BOIKO</td>\n",
       "      <td>I</td>\n",
       "      <td>I BOIKO</td>\n",
       "      <td>IRYNA BOIKO</td>\n",
       "      <td>IRYNA BOIKO</td>\n",
       "      <td>1.0</td>\n",
       "    </tr>\n",
       "    <tr>\n",
       "      <th>2</th>\n",
       "      <td>2</td>\n",
       "      <td>DANIEL GOLPARIAN</td>\n",
       "      <td>[WHO COLLABORATING CENTRE FOR GONORRHOEA AND O...</td>\n",
       "      <td>3</td>\n",
       "      <td>30456870</td>\n",
       "      <td>False</td>\n",
       "      <td>GOLPARIAN</td>\n",
       "      <td>D</td>\n",
       "      <td>D GOLPARIAN</td>\n",
       "      <td>DANIEL GOLPARIAN</td>\n",
       "      <td>DANIEL GOLPARIAN</td>\n",
       "      <td>1.0</td>\n",
       "    </tr>\n",
       "  </tbody>\n",
       "</table>\n",
       "</div>"
      ],
      "text/plain": [
       "   index          full_name  \\\n",
       "0      0  SUSANNE JACOBSSON   \n",
       "1      1        IRYNA BOIKO   \n",
       "2      2   DANIEL GOLPARIAN   \n",
       "\n",
       "                                         affiliation  index_authorship  \\\n",
       "0  [WHO COLLABORATING CENTRE FOR GONORRHOEA AND O...                 1   \n",
       "1  [CLINICAL LABORATORY DEPARTMENT TERNOPIL REGIO...                 2   \n",
       "2  [WHO COLLABORATING CENTRE FOR GONORRHOEA AND O...                 3   \n",
       "\n",
       "       pmid  is_institutions_name  last_name first_letter_name standard_name  \\\n",
       "0  30456870                 False  JACOBSSON                 S   S JACOBSSON   \n",
       "1  30456870                 False      BOIKO                 I       I BOIKO   \n",
       "2  30456870                 False  GOLPARIAN                 D   D GOLPARIAN   \n",
       "\n",
       "  deduplicated_name_std names_variation_std  n_variacoes_std  \n",
       "0     SUSANNE JACOBSSON   SUSANNE JACOBSSON              1.0  \n",
       "1           IRYNA BOIKO         IRYNA BOIKO              1.0  \n",
       "2      DANIEL GOLPARIAN    DANIEL GOLPARIAN              1.0  "
      ]
     },
     "execution_count": 20,
     "metadata": {},
     "output_type": "execute_result"
    }
   ],
   "source": [
    "authors.head(3)"
   ]
  },
  {
   "cell_type": "code",
   "execution_count": 21,
   "id": "1b516f9b",
   "metadata": {},
   "outputs": [
    {
     "data": {
      "text/plain": [
       "1509"
      ]
     },
     "execution_count": 21,
     "metadata": {},
     "output_type": "execute_result"
    }
   ],
   "source": [
    "len(papers)"
   ]
  },
  {
   "cell_type": "code",
   "execution_count": 22,
   "id": "82763ae7",
   "metadata": {},
   "outputs": [
    {
     "data": {
      "text/plain": [
       "17"
      ]
     },
     "execution_count": 22,
     "metadata": {},
     "output_type": "execute_result"
    }
   ],
   "source": [
    "sum(papers.authors_list.isna())"
   ]
  },
  {
   "cell_type": "code",
   "execution_count": 23,
   "id": "bff0ade0",
   "metadata": {},
   "outputs": [
    {
     "data": {
      "text/html": [
       "<div>\n",
       "<style scoped>\n",
       "    .dataframe tbody tr th:only-of-type {\n",
       "        vertical-align: middle;\n",
       "    }\n",
       "\n",
       "    .dataframe tbody tr th {\n",
       "        vertical-align: top;\n",
       "    }\n",
       "\n",
       "    .dataframe thead th {\n",
       "        text-align: right;\n",
       "    }\n",
       "</style>\n",
       "<table border=\"1\" class=\"dataframe\">\n",
       "  <thead>\n",
       "    <tr style=\"text-align: right;\">\n",
       "      <th></th>\n",
       "      <th>index</th>\n",
       "      <th>full_name</th>\n",
       "      <th>affiliation</th>\n",
       "      <th>index_authorship</th>\n",
       "      <th>pmid</th>\n",
       "      <th>is_institutions_name</th>\n",
       "      <th>last_name</th>\n",
       "      <th>first_letter_name</th>\n",
       "      <th>standard_name</th>\n",
       "      <th>deduplicated_name_std</th>\n",
       "      <th>names_variation_std</th>\n",
       "      <th>n_variacoes_std</th>\n",
       "    </tr>\n",
       "  </thead>\n",
       "  <tbody>\n",
       "    <tr>\n",
       "      <th>30456870</th>\n",
       "      <td>0</td>\n",
       "      <td>SUSANNE JACOBSSON</td>\n",
       "      <td>[WHO COLLABORATING CENTRE FOR GONORRHOEA AND O...</td>\n",
       "      <td>1</td>\n",
       "      <td>30456870</td>\n",
       "      <td>False</td>\n",
       "      <td>JACOBSSON</td>\n",
       "      <td>S</td>\n",
       "      <td>S JACOBSSON</td>\n",
       "      <td>SUSANNE JACOBSSON</td>\n",
       "      <td>SUSANNE JACOBSSON</td>\n",
       "      <td>1.0</td>\n",
       "    </tr>\n",
       "    <tr>\n",
       "      <th>30456870</th>\n",
       "      <td>1</td>\n",
       "      <td>IRYNA BOIKO</td>\n",
       "      <td>[CLINICAL LABORATORY DEPARTMENT TERNOPIL REGIO...</td>\n",
       "      <td>2</td>\n",
       "      <td>30456870</td>\n",
       "      <td>False</td>\n",
       "      <td>BOIKO</td>\n",
       "      <td>I</td>\n",
       "      <td>I BOIKO</td>\n",
       "      <td>IRYNA BOIKO</td>\n",
       "      <td>IRYNA BOIKO</td>\n",
       "      <td>1.0</td>\n",
       "    </tr>\n",
       "    <tr>\n",
       "      <th>30456870</th>\n",
       "      <td>2</td>\n",
       "      <td>DANIEL GOLPARIAN</td>\n",
       "      <td>[WHO COLLABORATING CENTRE FOR GONORRHOEA AND O...</td>\n",
       "      <td>3</td>\n",
       "      <td>30456870</td>\n",
       "      <td>False</td>\n",
       "      <td>GOLPARIAN</td>\n",
       "      <td>D</td>\n",
       "      <td>D GOLPARIAN</td>\n",
       "      <td>DANIEL GOLPARIAN</td>\n",
       "      <td>DANIEL GOLPARIAN</td>\n",
       "      <td>1.0</td>\n",
       "    </tr>\n",
       "    <tr>\n",
       "      <th>30456870</th>\n",
       "      <td>3</td>\n",
       "      <td>KAREL BLONDEEL</td>\n",
       "      <td>[DEPARTMENT OF REPRODUCTIVE HEALTH AND RESEARC...</td>\n",
       "      <td>4</td>\n",
       "      <td>30456870</td>\n",
       "      <td>False</td>\n",
       "      <td>BLONDEEL</td>\n",
       "      <td>K</td>\n",
       "      <td>K BLONDEEL</td>\n",
       "      <td>KAREL BLONDEEL</td>\n",
       "      <td>KAREL BLONDEEL</td>\n",
       "      <td>1.0</td>\n",
       "    </tr>\n",
       "    <tr>\n",
       "      <th>30456870</th>\n",
       "      <td>4</td>\n",
       "      <td>JAMES KIARIE</td>\n",
       "      <td>[DEPARTMENT OF REPRODUCTIVE HEALTH AND RESEARC...</td>\n",
       "      <td>5</td>\n",
       "      <td>30456870</td>\n",
       "      <td>False</td>\n",
       "      <td>KIARIE</td>\n",
       "      <td>J</td>\n",
       "      <td>J KIARIE</td>\n",
       "      <td>JAMES NJOGU KIARIE</td>\n",
       "      <td>JAMES KIARIE, JAMES N KIARIE, JAMES NJOGU KIAR...</td>\n",
       "      <td>5.0</td>\n",
       "    </tr>\n",
       "  </tbody>\n",
       "</table>\n",
       "</div>"
      ],
      "text/plain": [
       "          index          full_name  \\\n",
       "30456870      0  SUSANNE JACOBSSON   \n",
       "30456870      1        IRYNA BOIKO   \n",
       "30456870      2   DANIEL GOLPARIAN   \n",
       "30456870      3     KAREL BLONDEEL   \n",
       "30456870      4       JAMES KIARIE   \n",
       "\n",
       "                                                affiliation  index_authorship  \\\n",
       "30456870  [WHO COLLABORATING CENTRE FOR GONORRHOEA AND O...                 1   \n",
       "30456870  [CLINICAL LABORATORY DEPARTMENT TERNOPIL REGIO...                 2   \n",
       "30456870  [WHO COLLABORATING CENTRE FOR GONORRHOEA AND O...                 3   \n",
       "30456870  [DEPARTMENT OF REPRODUCTIVE HEALTH AND RESEARC...                 4   \n",
       "30456870  [DEPARTMENT OF REPRODUCTIVE HEALTH AND RESEARC...                 5   \n",
       "\n",
       "              pmid  is_institutions_name  last_name first_letter_name  \\\n",
       "30456870  30456870                 False  JACOBSSON                 S   \n",
       "30456870  30456870                 False      BOIKO                 I   \n",
       "30456870  30456870                 False  GOLPARIAN                 D   \n",
       "30456870  30456870                 False   BLONDEEL                 K   \n",
       "30456870  30456870                 False     KIARIE                 J   \n",
       "\n",
       "         standard_name deduplicated_name_std  \\\n",
       "30456870   S JACOBSSON     SUSANNE JACOBSSON   \n",
       "30456870       I BOIKO           IRYNA BOIKO   \n",
       "30456870   D GOLPARIAN      DANIEL GOLPARIAN   \n",
       "30456870    K BLONDEEL        KAREL BLONDEEL   \n",
       "30456870      J KIARIE    JAMES NJOGU KIARIE   \n",
       "\n",
       "                                        names_variation_std  n_variacoes_std  \n",
       "30456870                                  SUSANNE JACOBSSON              1.0  \n",
       "30456870                                        IRYNA BOIKO              1.0  \n",
       "30456870                                   DANIEL GOLPARIAN              1.0  \n",
       "30456870                                     KAREL BLONDEEL              1.0  \n",
       "30456870  JAMES KIARIE, JAMES N KIARIE, JAMES NJOGU KIAR...              5.0  "
      ]
     },
     "execution_count": 23,
     "metadata": {},
     "output_type": "execute_result"
    }
   ],
   "source": [
    "papers.index = list(papers.pmid)\n",
    "authors.index = list(authors.pmid)\n",
    "authors.head()"
   ]
  },
  {
   "cell_type": "code",
   "execution_count": 24,
   "id": "ba035fca",
   "metadata": {},
   "outputs": [
    {
     "name": "stdout",
     "output_type": "stream",
     "text": [
      "14424\n"
     ]
    },
    {
     "data": {
      "text/html": [
       "<div>\n",
       "<style scoped>\n",
       "    .dataframe tbody tr th:only-of-type {\n",
       "        vertical-align: middle;\n",
       "    }\n",
       "\n",
       "    .dataframe tbody tr th {\n",
       "        vertical-align: top;\n",
       "    }\n",
       "\n",
       "    .dataframe thead th {\n",
       "        text-align: right;\n",
       "    }\n",
       "</style>\n",
       "<table border=\"1\" class=\"dataframe\">\n",
       "  <thead>\n",
       "    <tr style=\"text-align: right;\">\n",
       "      <th></th>\n",
       "      <th>level_0</th>\n",
       "      <th>Term</th>\n",
       "      <th>Title</th>\n",
       "      <th>Tags</th>\n",
       "      <th>Origin</th>\n",
       "      <th>pmid_l</th>\n",
       "      <th>title</th>\n",
       "      <th>authors_list</th>\n",
       "      <th>citation</th>\n",
       "      <th>journal_book</th>\n",
       "      <th>...</th>\n",
       "      <th>affiliation</th>\n",
       "      <th>index_authorship</th>\n",
       "      <th>pmid</th>\n",
       "      <th>is_institutions_name</th>\n",
       "      <th>last_name</th>\n",
       "      <th>first_letter_name</th>\n",
       "      <th>standard_name</th>\n",
       "      <th>deduplicated_name_std</th>\n",
       "      <th>names_variation_std</th>\n",
       "      <th>n_variacoes_std</th>\n",
       "    </tr>\n",
       "  </thead>\n",
       "  <tbody>\n",
       "    <tr>\n",
       "      <th>0</th>\n",
       "      <td>1347812</td>\n",
       "      <td>1347812</td>\n",
       "      <td>Intrauterine devices and pelvic inflammatory d...</td>\n",
       "      <td>Has HRP authors</td>\n",
       "      <td>HRPPublicationsDatabase_UpdateDecember2014</td>\n",
       "      <td>1347812</td>\n",
       "      <td>Intrauterine devices and pelvic inflammatory d...</td>\n",
       "      <td>T M FARLEY, M J ROSENBERG, P J ROWE, J H CHEN,...</td>\n",
       "      <td>Farley TM, Rosenberg MJ, Rowe PJ, Chen JH, Mei...</td>\n",
       "      <td>Lancet (London, England)</td>\n",
       "      <td>...</td>\n",
       "      <td>[SPECIAL PROGRAMME OF RESEARCH DEVELOPMENT AND...</td>\n",
       "      <td>1</td>\n",
       "      <td>1347812</td>\n",
       "      <td>False</td>\n",
       "      <td>FARLEY</td>\n",
       "      <td>T</td>\n",
       "      <td>T FARLEY</td>\n",
       "      <td>TIMOTHY M M FARLEY</td>\n",
       "      <td>TIMOTHY FARLEY, TIM FARLEY, TIMOTHY M M FARLEY...</td>\n",
       "      <td>7.0</td>\n",
       "    </tr>\n",
       "    <tr>\n",
       "      <th>1</th>\n",
       "      <td>1347812</td>\n",
       "      <td>1347812</td>\n",
       "      <td>Intrauterine devices and pelvic inflammatory d...</td>\n",
       "      <td>Has HRP authors</td>\n",
       "      <td>HRPPublicationsDatabase_UpdateDecember2014</td>\n",
       "      <td>1347812</td>\n",
       "      <td>Intrauterine devices and pelvic inflammatory d...</td>\n",
       "      <td>T M FARLEY, M J ROSENBERG, P J ROWE, J H CHEN,...</td>\n",
       "      <td>Farley TM, Rosenberg MJ, Rowe PJ, Chen JH, Mei...</td>\n",
       "      <td>Lancet (London, England)</td>\n",
       "      <td>...</td>\n",
       "      <td>[]</td>\n",
       "      <td>2</td>\n",
       "      <td>1347812</td>\n",
       "      <td>False</td>\n",
       "      <td>ROSENBERG</td>\n",
       "      <td>M</td>\n",
       "      <td>M ROSENBERG</td>\n",
       "      <td>M J ROSENBERG</td>\n",
       "      <td>M J ROSENBERG</td>\n",
       "      <td>1.0</td>\n",
       "    </tr>\n",
       "  </tbody>\n",
       "</table>\n",
       "<p>2 rows × 45 columns</p>\n",
       "</div>"
      ],
      "text/plain": [
       "   level_0     Term                                              Title  \\\n",
       "0  1347812  1347812  Intrauterine devices and pelvic inflammatory d...   \n",
       "1  1347812  1347812  Intrauterine devices and pelvic inflammatory d...   \n",
       "\n",
       "              Tags                                      Origin   pmid_l  \\\n",
       "0  Has HRP authors  HRPPublicationsDatabase_UpdateDecember2014  1347812   \n",
       "1  Has HRP authors  HRPPublicationsDatabase_UpdateDecember2014  1347812   \n",
       "\n",
       "                                               title  \\\n",
       "0  Intrauterine devices and pelvic inflammatory d...   \n",
       "1  Intrauterine devices and pelvic inflammatory d...   \n",
       "\n",
       "                                        authors_list  \\\n",
       "0  T M FARLEY, M J ROSENBERG, P J ROWE, J H CHEN,...   \n",
       "1  T M FARLEY, M J ROSENBERG, P J ROWE, J H CHEN,...   \n",
       "\n",
       "                                            citation  \\\n",
       "0  Farley TM, Rosenberg MJ, Rowe PJ, Chen JH, Mei...   \n",
       "1  Farley TM, Rosenberg MJ, Rowe PJ, Chen JH, Mei...   \n",
       "\n",
       "               journal_book  ...  \\\n",
       "0  Lancet (London, England)  ...   \n",
       "1  Lancet (London, England)  ...   \n",
       "\n",
       "                                         affiliation index_authorship  \\\n",
       "0  [SPECIAL PROGRAMME OF RESEARCH DEVELOPMENT AND...                1   \n",
       "1                                                 []                2   \n",
       "\n",
       "      pmid is_institutions_name  last_name first_letter_name  standard_name  \\\n",
       "0  1347812                False     FARLEY                 T       T FARLEY   \n",
       "1  1347812                False  ROSENBERG                 M    M ROSENBERG   \n",
       "\n",
       "  deduplicated_name_std                                names_variation_std  \\\n",
       "0    TIMOTHY M M FARLEY  TIMOTHY FARLEY, TIM FARLEY, TIMOTHY M M FARLEY...   \n",
       "1         M J ROSENBERG                                      M J ROSENBERG   \n",
       "\n",
       "  n_variacoes_std  \n",
       "0             7.0  \n",
       "1             1.0  \n",
       "\n",
       "[2 rows x 45 columns]"
      ]
     },
     "execution_count": 24,
     "metadata": {},
     "output_type": "execute_result"
    }
   ],
   "source": [
    "publication_year = papers#[['pmid', 'publication_year']]#, 'first_author','last_author']]\n",
    "publication_year = publication_year.join(authors, how=\"right\", lsuffix=\"_l\", rsuffix=\"\").reset_index()\n",
    "print(len(publication_year))\n",
    "publication_year.head(2)#.affiliation.value_counts()"
   ]
  },
  {
   "cell_type": "code",
   "execution_count": 25,
   "id": "ff30b74a",
   "metadata": {},
   "outputs": [
    {
     "data": {
      "text/plain": [
       "0        [SPECIAL PROGRAMME OF RESEARCH DEVELOPMENT AND...\n",
       "1                                                       []\n",
       "2                                                       []\n",
       "3                                                       []\n",
       "4                                                       []\n",
       "                               ...                        \n",
       "14419    [UCL INSTITUTE FOR GLOBAL HEALTH FACULTY OF PO...\n",
       "14420    [UNDP UNFPA UNICEF WHO WORLD BANK SPECIAL PROG...\n",
       "14421    [DEPARTMENT OF INFECTIOUS DISEASE EPIDEMIOLOGY...\n",
       "14422    [UNDP UNFPA UNICEF WHO WORLD BANK SPECIAL PROG...\n",
       "14423    [UNDP UNFPA UNICEF WHO WORLD BANK SPECIAL PROG...\n",
       "Name: affiliation, Length: 14424, dtype: object"
      ]
     },
     "execution_count": 25,
     "metadata": {},
     "output_type": "execute_result"
    }
   ],
   "source": [
    "publication_year.affiliation"
   ]
  },
  {
   "cell_type": "code",
   "execution_count": 26,
   "id": "b61898a9",
   "metadata": {},
   "outputs": [
    {
     "name": "stdout",
     "output_type": "stream",
     "text": [
      "7084 49.11259012756517\n",
      "6100 42.29062673322241\n"
     ]
    }
   ],
   "source": [
    "authors_without_affiliation = publication_year[publication_year.affiliation.map(len) == 0]\n",
    "print(len(authors_without_affiliation),len(authors_without_affiliation)/len(publication_year)*100)\n",
    "\n",
    "for index, row in authors_without_affiliation.iterrows():\n",
    "    affiliation = publication_year[(publication_year.deduplicated_name_std == row.deduplicated_name_std) & \n",
    "                     ((publication_year.publication_year >= row.publication_year - 0) &\n",
    "                      (publication_year.publication_year <= row.publication_year + 0)\n",
    "                     ) & \n",
    "                     #(publication_year.affiliation != \"[]\") &\n",
    "                     (publication_year.affiliation.map(len) > 0) &\n",
    "                          (publication_year.affiliation != \"Collaborators\")]#.affiliation\n",
    "    if len(affiliation) > 0:\n",
    "        #print (index, publication_year.iloc[index].publication_year, \"\\n\",affiliation[['publication_year', 'affiliation']])#.iloc[0])\n",
    "        #print(affiliation.sort_values(by='publication_year', ascending=True).publication_year.iloc[0])\n",
    "        publication_year.at[index, 'affiliation'] = affiliation.sort_values(by='publication_year', ascending=True).affiliation.iloc[0]\n",
    "        \n",
    "authors_without_affiliation = publication_year[publication_year.affiliation.map(len) == 0]\n",
    "print(len(authors_without_affiliation), len(authors_without_affiliation)/len(publication_year)*100)"
   ]
  },
  {
   "cell_type": "code",
   "execution_count": 27,
   "id": "b5abc9c5",
   "metadata": {},
   "outputs": [],
   "source": [
    "authors = publication_year\n",
    "#authors.rename(columns={\"pmid_l\": \"pmid\"}, inplace=True)"
   ]
  },
  {
   "cell_type": "code",
   "execution_count": 28,
   "id": "91bde164",
   "metadata": {},
   "outputs": [
    {
     "data": {
      "text/plain": [
       "0        [SPECIAL PROGRAMME OF RESEARCH DEVELOPMENT AND...\n",
       "1                                                       []\n",
       "2                                                       []\n",
       "3                                                       []\n",
       "4                                                       []\n",
       "                               ...                        \n",
       "14419    [UCL INSTITUTE FOR GLOBAL HEALTH FACULTY OF PO...\n",
       "14420    [UNDP UNFPA UNICEF WHO WORLD BANK SPECIAL PROG...\n",
       "14421    [DEPARTMENT OF INFECTIOUS DISEASE EPIDEMIOLOGY...\n",
       "14422    [UNDP UNFPA UNICEF WHO WORLD BANK SPECIAL PROG...\n",
       "14423    [UNDP UNFPA UNICEF WHO WORLD BANK SPECIAL PROG...\n",
       "Name: affiliation, Length: 14424, dtype: object"
      ]
     },
     "execution_count": 28,
     "metadata": {},
     "output_type": "execute_result"
    }
   ],
   "source": [
    "authors.affiliation"
   ]
  },
  {
   "cell_type": "code",
   "execution_count": 29,
   "id": "61e98668",
   "metadata": {},
   "outputs": [
    {
     "data": {
      "text/plain": [
       "pandas.core.series.Series"
      ]
     },
     "execution_count": 29,
     "metadata": {},
     "output_type": "execute_result"
    }
   ],
   "source": [
    "type(authors.affiliation)"
   ]
  },
  {
   "cell_type": "code",
   "execution_count": 60,
   "id": "778853ba",
   "metadata": {},
   "outputs": [
    {
     "name": "stdout",
     "output_type": "stream",
     "text": [
      "|████████████████████████████████████████| 14424/14424 [100%] in 34.7s (415.54/s)                                       ▅▇▇ 1530/14424 [11%] in 1s (1030.7/s, eta: 12s)           ▅▇▇ 2936/14424 [20%] in 3s (1074.4/s, eta: 11s) 5664/14424 [39%] in 6s (939.9/s, eta: 9s)  5723/14424 [40%] in 6s (915.6/s, eta: 9s)  ▆█▆ 6287/14424 [44%] in 8s (819.3/s, eta: 10s) 6736/14424 [47%] in 9s (767.9/s, eta: 10s) 7788/14424 [54%] in 12s (644.3/s, eta: 10s)  8111/14424 [56%] in 13s (609.2/s, eta: 10s) 8378/14424 [58%] in 15s (563.1/s, eta: 11s) 8802/14424 [61%] in 17s (530.1/s, eta: 11s)  8847/14424 [61%] in 17s (527.0/s, eta: 11s) (509.8/s, eta: 10s) ▃▁▃ 9937/14424 [69%] in 21s (477.8/s, eta: 9s)  11378/14424 [79%] in 25s (447.2/s, eta: 7s) in 26s (450.5/s, eta: 6s) in 32s (422.2/s, eta: 2s)  14196/14424 [98%] in 34s (416.1/s, eta: 1s) (416.3/s, eta: 0s) \n"
     ]
    }
   ],
   "source": [
    "remap_affiliation(authors)\n",
    "#authors.head()"
   ]
  },
  {
   "cell_type": "code",
   "execution_count": 61,
   "id": "b7a4689c",
   "metadata": {},
   "outputs": [
    {
     "name": "stdout",
     "output_type": "stream",
     "text": [
      "['DEPARTMENT OF REPRODUCTIVE HEALTH AND RESEARCH (RHR) WORLD HEALTH ORGANIZATION (WHO) GENEVA SWITZERLAND.']\n",
      "['DEPARTMENT OF REPRODUCTIVE HEALTH AND RESEARCH (RHR) WORLD HEALTH ORGANIZATION (WHO) GENEVA SWITZERLAND.']\n",
      "['DEPARTMENT OF REPRODUCTIVE HEALTH AND RESEARCH (RHR) WORLD HEALTH ORGANIZATION (WHO) GENEVA SWITZERLAND.']\n",
      "IQBAL H SHAH\n",
      "MARLEEN TEMMERMAN\n",
      "A METIN GÜLMEZOGLU\n"
     ]
    }
   ],
   "source": [
    "for index, aff in authors.iterrows():\n",
    "    if (aff.pmid in [17308725, 23240739, 27227224]) & (aff.index_authorship==1):\n",
    "        print(aff.affiliation)\n",
    "#affiliations_unique.loc[affiliations_unique.original == clean_string(\"DEPARTMENT OF REPRODUCTIVE HEALTH AND RESEARCH (RHR) WORLD HEALTH ORGANIZATION (WHO) GENEVA SWITZERLAND.\", True)].reset_index().remap\n",
    "\n",
    "for index, aff in authors.iterrows():\n",
    "    if (\"DEPARTMENT OF REPRODUCTIVE HEALTH AND RESEARCH (RHR) WORLD HEALTH ORGANIZATION (WHO) GENEVA SWITZERLAND.\" in aff.affiliation) \\\n",
    "    & (aff.pmid in [17308725, 23240739, 27227224]) & (aff.index_authorship==1):\n",
    "        print(aff.full_name)"
   ]
  },
  {
   "cell_type": "code",
   "execution_count": 32,
   "id": "f66a4df2",
   "metadata": {},
   "outputs": [],
   "source": [
    "authors.to_csv(path+'deduplicated_authors.csv', encoding=\"utf-8\", index=False)"
   ]
  },
  {
   "cell_type": "code",
   "execution_count": 33,
   "id": "b0f48914",
   "metadata": {},
   "outputs": [
    {
     "name": "stdout",
     "output_type": "stream",
     "text": [
      "Number of authors: 14424\n",
      "Number unique authors: 7267\n",
      "Number of authors: 14424\n",
      "Number unique authors: 5950\n"
     ]
    }
   ],
   "source": [
    "print(\"Number of authors: {}\".format(len(authors['full_name'])))\n",
    "print(\"Number unique authors: {}\".format(len(authors['full_name'].value_counts())))\n",
    "\n",
    "print(\"Number of authors: {}\".format(len(authors['deduplicated_name_std'])))\n",
    "print(\"Number unique authors: {}\".format(len(authors['deduplicated_name_std'].value_counts())))"
   ]
  },
  {
   "cell_type": "code",
   "execution_count": 34,
   "id": "4b0c3607",
   "metadata": {},
   "outputs": [
    {
     "name": "stdout",
     "output_type": "stream",
     "text": [
      "|████████████████████████████████████████| 5950/5950 [100%] in 35.1s (169.35/s)                                         ta: 1:35) ▇▅▃ 60/5950 [1%] in 1s (82.2/s, eta: 1:17) (97.7/s, eta: 1:02) ▂▂▄ 119/5950 [2%] in 1s (101.2/s, eta: 1:00) in 3s (119.9/s, eta: 47s) ▅▇▇ 772/5950 [13%] in 7s (115.7/s, eta: 45s)  ▆█▆ 781/5950 [13%] in 7s (115.1/s, eta: 45s) ▅▃▁ 821/5950 [14%] in 7s (114.6/s, eta: 45s) 1636/5950 [27%] in 13s (123.0/s, eta: 35s)  1799/5950 [30%] in 14s (124.6/s, eta: 33s) ▄▂▂ 1957/5950 [33%] in 15s (127.5/s, eta: 32s) 2027/5950 [34%] in 16s (128.8/s, eta: 31s)  ▄▆█ 2049/5950 [34%] in 16s (129.3/s, eta: 30s)  2149/5950 [36%] in 16s (131.4/s, eta: 29s) ▁▃▅ 2211/5950 [37%] in 17s (132.8/s, eta: 28s) in 17s (134.3/s, eta: 28s) in 17s (134.3/s, eta: 27s) 2379/5950 [40%] in 18s (135.7/s, eta: 27s) in 20s (142.1/s, eta: 22s) ▅▇▇ 2879/5950 [48%] in 20s (142.6/s, eta: 22s) in 22s (147.1/s, eta: 19s) (151.0/s, eta: 17s)  ▅▇▇ 3668/5950 [62%] in 24s (154.3/s, eta: 15s)  3708/5950 [62%] in 24s (154.7/s, eta: 15s) 3790/5950 [64%] in 24s (155.8/s, eta: 14s) 3903/5950 [66%] in 25s (157.3/s, eta: 13s) ▅▇▇ 4099/5950 [69%] in 26s (158.0/s, eta: 12s)  4386/5950 [74%] in 28s (158.8/s, eta: 10s) ▄▆█ 4424/5950 [74%] in 28s (159.1/s, eta: 10s) in 29s (161.7/s, eta: 8s) ▂▂▄ 4836/5950 [81%] in 30s (162.6/s, eta: 7s) (162.8/s, eta: 7s)  4916/5950 [83%] in 30s (163.0/s, eta: 6s) ▅▃▁ 5005/5950 [84%] in 31s (163.7/s, eta: 6s)  5017/5950 [84%] in 31s (163.7/s, eta: 6s)  ▆█▆ 5376/5950 [90%] in 32s (166.5/s, eta: 4s)  ▆▄▂ 5434/5950 [91%] in 33s (166.8/s, eta: 3s)  5461/5950 [92%] in 33s (167.0/s, eta: 3s)  5516/5950 [93%] in 33s (167.3/s, eta: 3s)  5582/5950 [94%] in 33s (167.7/s, eta: 2s) 5647/5950 [95%] in 34s (168.0/s, eta: 2s)  ▅▃▁ 5663/5950 [95%] in 34s (168.1/s, eta: 2s)  ▇▇▅ 5816/5950 [98%] in 34s (169.1/s, eta: 1s) \n"
     ]
    }
   ],
   "source": [
    "gender_list = []\n",
    "unique_names = authors['deduplicated_name_std'].value_counts().index\n",
    "\n",
    "with alive_bar(len(unique_names), force_tty=True) as bar:\n",
    "    for author in unique_names:\n",
    "        list_names_variation = get_list_names(authors, author)\n",
    "        author_guessed_gender = guess_gender_in_list(list_names_variation)\n",
    "        \n",
    "        ## For last name\n",
    "        if author_guessed_gender == 'unknown':            \n",
    "            author_guessed_gender = guess_gender_in_list(list_names_variation, last=True)\n",
    "        \n",
    "        authors.loc[authors['deduplicated_name_std'] == author, 'gender'] = author_guessed_gender\n",
    "        gender_list += [author_guessed_gender]\n",
    "        #print(author, author_guessed_gender)\n",
    "        bar()\n",
    "        "
   ]
  },
  {
   "cell_type": "code",
   "execution_count": 35,
   "id": "bb8a675b",
   "metadata": {},
   "outputs": [
    {
     "name": "stderr",
     "output_type": "stream",
     "text": [
      "C:\\Users\\livia\\Anaconda3\\lib\\site-packages\\researchpy\\crosstab.py:94: RuntimeWarning: invalid value encountered in true_divide\n",
      "  V = numpy.sqrt(test_val / (n * min((num_row - 1), (num_col - 1))))\n",
      "C:\\Users\\livia\\Anaconda3\\lib\\site-packages\\researchpy\\crosstab.py:94: RuntimeWarning: invalid value encountered in true_divide\n",
      "  V = numpy.sqrt(test_val / (n * min((num_row - 1), (num_col - 1))))\n"
     ]
    },
    {
     "data": {
      "text/html": [
       "<div>\n",
       "<style scoped>\n",
       "    .dataframe tbody tr th:only-of-type {\n",
       "        vertical-align: middle;\n",
       "    }\n",
       "\n",
       "    .dataframe tbody tr th {\n",
       "        vertical-align: top;\n",
       "    }\n",
       "\n",
       "    .dataframe thead tr th {\n",
       "        text-align: left;\n",
       "    }\n",
       "\n",
       "    .dataframe thead tr:last-of-type th {\n",
       "        text-align: right;\n",
       "    }\n",
       "</style>\n",
       "<table border=\"1\" class=\"dataframe\">\n",
       "  <thead>\n",
       "    <tr>\n",
       "      <th>constant</th>\n",
       "      <th colspan=\"2\" halign=\"left\">N=14424</th>\n",
       "      <th colspan=\"2\" halign=\"left\">All</th>\n",
       "    </tr>\n",
       "    <tr>\n",
       "      <th>distribuição</th>\n",
       "      <th>N</th>\n",
       "      <th>%</th>\n",
       "      <th>N</th>\n",
       "      <th>%</th>\n",
       "    </tr>\n",
       "    <tr>\n",
       "      <th>gender</th>\n",
       "      <th></th>\n",
       "      <th></th>\n",
       "      <th></th>\n",
       "      <th></th>\n",
       "    </tr>\n",
       "  </thead>\n",
       "  <tbody>\n",
       "    <tr>\n",
       "      <th>andy</th>\n",
       "      <td>481</td>\n",
       "      <td>(3.33%)</td>\n",
       "      <td>481</td>\n",
       "      <td>(3.33%)</td>\n",
       "    </tr>\n",
       "    <tr>\n",
       "      <th>female</th>\n",
       "      <td>6052</td>\n",
       "      <td>(41.96%)</td>\n",
       "      <td>6052</td>\n",
       "      <td>(41.96%)</td>\n",
       "    </tr>\n",
       "    <tr>\n",
       "      <th>male</th>\n",
       "      <td>5096</td>\n",
       "      <td>(35.33%)</td>\n",
       "      <td>5096</td>\n",
       "      <td>(35.33%)</td>\n",
       "    </tr>\n",
       "    <tr>\n",
       "      <th>unknown</th>\n",
       "      <td>2795</td>\n",
       "      <td>(19.38%)</td>\n",
       "      <td>2795</td>\n",
       "      <td>(19.38%)</td>\n",
       "    </tr>\n",
       "    <tr>\n",
       "      <th>All</th>\n",
       "      <td>14424</td>\n",
       "      <td>(100.0%)</td>\n",
       "      <td>14424</td>\n",
       "      <td>(100.0%)</td>\n",
       "    </tr>\n",
       "  </tbody>\n",
       "</table>\n",
       "</div>"
      ],
      "text/plain": [
       "constant     N=14424              All          \n",
       "distribuição       N         %      N         %\n",
       "gender                                         \n",
       "andy             481   (3.33%)    481   (3.33%)\n",
       "female          6052  (41.96%)   6052  (41.96%)\n",
       "male            5096  (35.33%)   5096  (35.33%)\n",
       "unknown         2795  (19.38%)   2795  (19.38%)\n",
       "All            14424  (100.0%)  14424  (100.0%)"
      ]
     },
     "execution_count": 35,
     "metadata": {},
     "output_type": "execute_result"
    }
   ],
   "source": [
    "authors['constant'] =[\"N={}\".format(len(authors)) for i in authors['gender']]\n",
    "tabelaEstiloArtigoCategoricas(authors, 'constant', 'gender', probabilidade='col')"
   ]
  },
  {
   "cell_type": "code",
   "execution_count": 36,
   "id": "e2d4337e",
   "metadata": {},
   "outputs": [
    {
     "name": "stdout",
     "output_type": "stream",
     "text": [
      "Total of unique names unknown gender: 1779 (29.90%)\n",
      "Total of names unknown gender: 3276 (22.71%)\n",
      "\n",
      "Total of unique names suggested gender: 4456 (74.89%)\n",
      "Total of names suggested gender: 11629 (80.62%)\n"
     ]
    }
   ],
   "source": [
    "unknown_gender_authors = authors[(authors.gender == 'unknown') | (authors.gender == 'andy')]\n",
    "print(\"Total of unique names unknown gender: {} ({:.2%})\".\n",
    "      format(len(unknown_gender_authors.deduplicated_name_std.unique()), \n",
    "            len(unknown_gender_authors.deduplicated_name_std.unique())/len(authors.deduplicated_name_std.unique())))\n",
    "print(\"Total of names unknown gender: {} ({:.2%})\\n\".format(len(unknown_gender_authors.deduplicated_name_std),\n",
    "            len(unknown_gender_authors.deduplicated_name_std)/len(authors.deduplicated_name_std)))\n",
    "\n",
    "known_gender_authors = authors[authors.gender != 'unknown']\n",
    "print(\"Total of unique names suggested gender: {} ({:.2%})\".\n",
    "      format(len(known_gender_authors.deduplicated_name_std.unique()), \n",
    "            len(known_gender_authors.deduplicated_name_std.unique())/len(authors.deduplicated_name_std.unique())))\n",
    "print(\"Total of names suggested gender: {} ({:.2%})\".format(len(known_gender_authors.deduplicated_name_std),\n",
    "            len(known_gender_authors.deduplicated_name_std)/len(authors.deduplicated_name_std)))"
   ]
  },
  {
   "cell_type": "code",
   "execution_count": 37,
   "id": "a7f5f2cc",
   "metadata": {},
   "outputs": [],
   "source": [
    "#len(unknown_gender_authors.value_counts())\n",
    "#unknown_gender_authors.deduplicated_name_std.value_counts()"
   ]
  },
  {
   "cell_type": "code",
   "execution_count": 38,
   "id": "75397948",
   "metadata": {},
   "outputs": [
    {
     "data": {
      "text/plain": [
       "female     367\n",
       "male       315\n",
       "unknown    305\n",
       "andy        15\n",
       "Name: gender, dtype: int64"
      ]
     },
     "execution_count": 38,
     "metadata": {},
     "output_type": "execute_result"
    }
   ],
   "source": [
    "names_checked = pd.read_csv(path + '..\\\\Reviewed Files\\\\01_names_checked_v2.csv')\n",
    "names_checked.deduplicated_name_std = names_checked.deduplicated_name_std.str.title()\n",
    "#names_checked.head(5)\n",
    "names_checked.gender.value_counts()"
   ]
  },
  {
   "cell_type": "code",
   "execution_count": 39,
   "id": "010d534d",
   "metadata": {},
   "outputs": [],
   "source": [
    "for index, row in unknown_gender_authors.iterrows():\n",
    "    gender = names_checked[names_checked.deduplicated_name_std == row.deduplicated_name_std.title()]\n",
    "    if len(gender) > 0:\n",
    "        #print(row.deduplicated_name_std.title())\n",
    "        authors.loc[index, 'gender'] = gender.iloc[0].gender\n",
    "        #print(row.deduplicated_name_std.title(), gender)"
   ]
  },
  {
   "cell_type": "code",
   "execution_count": 40,
   "id": "28eb5530",
   "metadata": {},
   "outputs": [
    {
     "name": "stderr",
     "output_type": "stream",
     "text": [
      "C:\\Users\\livia\\Anaconda3\\lib\\site-packages\\researchpy\\crosstab.py:94: RuntimeWarning: invalid value encountered in true_divide\n",
      "  V = numpy.sqrt(test_val / (n * min((num_row - 1), (num_col - 1))))\n",
      "C:\\Users\\livia\\Anaconda3\\lib\\site-packages\\researchpy\\crosstab.py:94: RuntimeWarning: invalid value encountered in true_divide\n",
      "  V = numpy.sqrt(test_val / (n * min((num_row - 1), (num_col - 1))))\n"
     ]
    },
    {
     "data": {
      "text/html": [
       "<div>\n",
       "<style scoped>\n",
       "    .dataframe tbody tr th:only-of-type {\n",
       "        vertical-align: middle;\n",
       "    }\n",
       "\n",
       "    .dataframe tbody tr th {\n",
       "        vertical-align: top;\n",
       "    }\n",
       "\n",
       "    .dataframe thead tr th {\n",
       "        text-align: left;\n",
       "    }\n",
       "\n",
       "    .dataframe thead tr:last-of-type th {\n",
       "        text-align: right;\n",
       "    }\n",
       "</style>\n",
       "<table border=\"1\" class=\"dataframe\">\n",
       "  <thead>\n",
       "    <tr>\n",
       "      <th>constant</th>\n",
       "      <th colspan=\"2\" halign=\"left\">N=14424</th>\n",
       "      <th colspan=\"2\" halign=\"left\">All</th>\n",
       "    </tr>\n",
       "    <tr>\n",
       "      <th>distribuição</th>\n",
       "      <th>N</th>\n",
       "      <th>%</th>\n",
       "      <th>N</th>\n",
       "      <th>%</th>\n",
       "    </tr>\n",
       "    <tr>\n",
       "      <th>gender</th>\n",
       "      <th></th>\n",
       "      <th></th>\n",
       "      <th></th>\n",
       "      <th></th>\n",
       "    </tr>\n",
       "  </thead>\n",
       "  <tbody>\n",
       "    <tr>\n",
       "      <th>andy</th>\n",
       "      <td>490</td>\n",
       "      <td>(3.4%)</td>\n",
       "      <td>490</td>\n",
       "      <td>(3.4%)</td>\n",
       "    </tr>\n",
       "    <tr>\n",
       "      <th>female</th>\n",
       "      <td>6653</td>\n",
       "      <td>(46.12%)</td>\n",
       "      <td>6653</td>\n",
       "      <td>(46.12%)</td>\n",
       "    </tr>\n",
       "    <tr>\n",
       "      <th>male</th>\n",
       "      <td>5917</td>\n",
       "      <td>(41.02%)</td>\n",
       "      <td>5917</td>\n",
       "      <td>(41.02%)</td>\n",
       "    </tr>\n",
       "    <tr>\n",
       "      <th>unknown</th>\n",
       "      <td>1364</td>\n",
       "      <td>(9.46%)</td>\n",
       "      <td>1364</td>\n",
       "      <td>(9.46%)</td>\n",
       "    </tr>\n",
       "    <tr>\n",
       "      <th>All</th>\n",
       "      <td>14424</td>\n",
       "      <td>(100.0%)</td>\n",
       "      <td>14424</td>\n",
       "      <td>(100.0%)</td>\n",
       "    </tr>\n",
       "  </tbody>\n",
       "</table>\n",
       "</div>"
      ],
      "text/plain": [
       "constant     N=14424              All          \n",
       "distribuição       N         %      N         %\n",
       "gender                                         \n",
       "andy             490    (3.4%)    490    (3.4%)\n",
       "female          6653  (46.12%)   6653  (46.12%)\n",
       "male            5917  (41.02%)   5917  (41.02%)\n",
       "unknown         1364   (9.46%)   1364   (9.46%)\n",
       "All            14424  (100.0%)  14424  (100.0%)"
      ]
     },
     "execution_count": 40,
     "metadata": {},
     "output_type": "execute_result"
    }
   ],
   "source": [
    "tabelaEstiloArtigoCategoricas(authors, 'constant', 'gender', probabilidade='col')"
   ]
  },
  {
   "cell_type": "code",
   "execution_count": 41,
   "id": "1a9e82c1",
   "metadata": {},
   "outputs": [
    {
     "name": "stdout",
     "output_type": "stream",
     "text": [
      "Total of unique names unknown gender: 1329 (22.34%)\n",
      "Total of names unknown gender: 1854 (12.85%)\n",
      "\n",
      "Total of unique names suggested gender: 4917 (82.64%)\n",
      "Total of names suggested gender: 13060 (90.54%)\n"
     ]
    }
   ],
   "source": [
    "unknown_gender_authors = authors[(authors.gender == 'unknown') | (authors.gender == 'andy')]\n",
    "print(\"Total of unique names unknown gender: {} ({:.2%})\".\n",
    "      format(len(unknown_gender_authors.deduplicated_name_std.unique()), \n",
    "            len(unknown_gender_authors.deduplicated_name_std.unique())/len(authors.deduplicated_name_std.unique())))\n",
    "print(\"Total of names unknown gender: {} ({:.2%})\\n\".format(len(unknown_gender_authors.deduplicated_name_std),\n",
    "            len(unknown_gender_authors.deduplicated_name_std)/len(authors.deduplicated_name_std)))\n",
    "\n",
    "known_gender_authors = authors[authors.gender != 'unknown']\n",
    "print(\"Total of unique names suggested gender: {} ({:.2%})\".\n",
    "      format(len(known_gender_authors.deduplicated_name_std.unique()), \n",
    "            len(known_gender_authors.deduplicated_name_std.unique())/len(authors.deduplicated_name_std.unique())))\n",
    "print(\"Total of names suggested gender: {} ({:.2%})\".format(len(known_gender_authors.deduplicated_name_std),\n",
    "            len(known_gender_authors.deduplicated_name_std)/len(authors.deduplicated_name_std)))"
   ]
  },
  {
   "cell_type": "code",
   "execution_count": 42,
   "id": "98ba4326",
   "metadata": {},
   "outputs": [
    {
     "name": "stderr",
     "output_type": "stream",
     "text": [
      "C:\\Users\\livia\\Anaconda3\\lib\\site-packages\\researchpy\\crosstab.py:94: RuntimeWarning: invalid value encountered in true_divide\n",
      "  V = numpy.sqrt(test_val / (n * min((num_row - 1), (num_col - 1))))\n",
      "C:\\Users\\livia\\Anaconda3\\lib\\site-packages\\researchpy\\crosstab.py:94: RuntimeWarning: invalid value encountered in true_divide\n",
      "  V = numpy.sqrt(test_val / (n * min((num_row - 1), (num_col - 1))))\n"
     ]
    },
    {
     "data": {
      "text/html": [
       "<div>\n",
       "<style scoped>\n",
       "    .dataframe tbody tr th:only-of-type {\n",
       "        vertical-align: middle;\n",
       "    }\n",
       "\n",
       "    .dataframe tbody tr th {\n",
       "        vertical-align: top;\n",
       "    }\n",
       "\n",
       "    .dataframe thead tr th {\n",
       "        text-align: left;\n",
       "    }\n",
       "\n",
       "    .dataframe thead tr:last-of-type th {\n",
       "        text-align: right;\n",
       "    }\n",
       "</style>\n",
       "<table border=\"1\" class=\"dataframe\">\n",
       "  <thead>\n",
       "    <tr>\n",
       "      <th>constant</th>\n",
       "      <th colspan=\"2\" halign=\"left\">N=14424</th>\n",
       "      <th colspan=\"2\" halign=\"left\">All</th>\n",
       "    </tr>\n",
       "    <tr>\n",
       "      <th>distribuição</th>\n",
       "      <th>N</th>\n",
       "      <th>%</th>\n",
       "      <th>N</th>\n",
       "      <th>%</th>\n",
       "    </tr>\n",
       "    <tr>\n",
       "      <th>gender</th>\n",
       "      <th></th>\n",
       "      <th></th>\n",
       "      <th></th>\n",
       "      <th></th>\n",
       "    </tr>\n",
       "  </thead>\n",
       "  <tbody>\n",
       "    <tr>\n",
       "      <th>female</th>\n",
       "      <td>6653</td>\n",
       "      <td>(46.12%)</td>\n",
       "      <td>6653</td>\n",
       "      <td>(46.12%)</td>\n",
       "    </tr>\n",
       "    <tr>\n",
       "      <th>male</th>\n",
       "      <td>5917</td>\n",
       "      <td>(41.02%)</td>\n",
       "      <td>5917</td>\n",
       "      <td>(41.02%)</td>\n",
       "    </tr>\n",
       "    <tr>\n",
       "      <th>unknown</th>\n",
       "      <td>1854</td>\n",
       "      <td>(12.85%)</td>\n",
       "      <td>1854</td>\n",
       "      <td>(12.85%)</td>\n",
       "    </tr>\n",
       "    <tr>\n",
       "      <th>All</th>\n",
       "      <td>14424</td>\n",
       "      <td>(100.0%)</td>\n",
       "      <td>14424</td>\n",
       "      <td>(100.0%)</td>\n",
       "    </tr>\n",
       "  </tbody>\n",
       "</table>\n",
       "</div>"
      ],
      "text/plain": [
       "constant     N=14424              All          \n",
       "distribuição       N         %      N         %\n",
       "gender                                         \n",
       "female          6653  (46.12%)   6653  (46.12%)\n",
       "male            5917  (41.02%)   5917  (41.02%)\n",
       "unknown         1854  (12.85%)   1854  (12.85%)\n",
       "All            14424  (100.0%)  14424  (100.0%)"
      ]
     },
     "execution_count": 42,
     "metadata": {},
     "output_type": "execute_result"
    }
   ],
   "source": [
    "authors.gender.replace('andy', 'unknown', inplace=True)\n",
    "tabelaEstiloArtigoCategoricas(authors, 'constant', 'gender', probabilidade='col')"
   ]
  },
  {
   "cell_type": "code",
   "execution_count": 43,
   "id": "d3ac86a6",
   "metadata": {},
   "outputs": [
    {
     "data": {
      "text/html": [
       "<div>\n",
       "<style scoped>\n",
       "    .dataframe tbody tr th:only-of-type {\n",
       "        vertical-align: middle;\n",
       "    }\n",
       "\n",
       "    .dataframe tbody tr th {\n",
       "        vertical-align: top;\n",
       "    }\n",
       "\n",
       "    .dataframe thead th {\n",
       "        text-align: right;\n",
       "    }\n",
       "</style>\n",
       "<table border=\"1\" class=\"dataframe\">\n",
       "  <thead>\n",
       "    <tr style=\"text-align: right;\">\n",
       "      <th></th>\n",
       "      <th>level_0</th>\n",
       "      <th>Term</th>\n",
       "      <th>Title</th>\n",
       "      <th>Tags</th>\n",
       "      <th>Origin</th>\n",
       "      <th>pmid_l</th>\n",
       "      <th>title</th>\n",
       "      <th>authors_list</th>\n",
       "      <th>citation</th>\n",
       "      <th>journal_book</th>\n",
       "      <th>...</th>\n",
       "      <th>is_institutions_name</th>\n",
       "      <th>last_name</th>\n",
       "      <th>first_letter_name</th>\n",
       "      <th>standard_name</th>\n",
       "      <th>deduplicated_name_std</th>\n",
       "      <th>names_variation_std</th>\n",
       "      <th>n_variacoes_std</th>\n",
       "      <th>countries</th>\n",
       "      <th>gender</th>\n",
       "      <th>constant</th>\n",
       "    </tr>\n",
       "  </thead>\n",
       "  <tbody>\n",
       "    <tr>\n",
       "      <th>14422</th>\n",
       "      <td>35590230</td>\n",
       "      <td>10.1016/j.medj.2021.04.023</td>\n",
       "      <td>The role of the health sector in contributing ...</td>\n",
       "      <td>Included by VB</td>\n",
       "      <td>covidence-doi</td>\n",
       "      <td>35590230</td>\n",
       "      <td>The role of the health sector in contributing ...</td>\n",
       "      <td>CHRISTINA C PALLITTO, WISAL AHMED</td>\n",
       "      <td>Pallitto CC, Ahmed W. The role of the health s...</td>\n",
       "      <td>Med (New York, N.Y.)</td>\n",
       "      <td>...</td>\n",
       "      <td>False</td>\n",
       "      <td>PALLITTO</td>\n",
       "      <td>C</td>\n",
       "      <td>C PALLITTO</td>\n",
       "      <td>CHRISTINA CATHERINE PALLITTO</td>\n",
       "      <td>CHRISTINA PALLITTO, CHRISTINA CATHERINE PALLIT...</td>\n",
       "      <td>5.0</td>\n",
       "      <td>[SWITZERLAND]</td>\n",
       "      <td>female</td>\n",
       "      <td>N=14424</td>\n",
       "    </tr>\n",
       "    <tr>\n",
       "      <th>14423</th>\n",
       "      <td>35590230</td>\n",
       "      <td>10.1016/j.medj.2021.04.023</td>\n",
       "      <td>The role of the health sector in contributing ...</td>\n",
       "      <td>Included by VB</td>\n",
       "      <td>covidence-doi</td>\n",
       "      <td>35590230</td>\n",
       "      <td>The role of the health sector in contributing ...</td>\n",
       "      <td>CHRISTINA C PALLITTO, WISAL AHMED</td>\n",
       "      <td>Pallitto CC, Ahmed W. The role of the health s...</td>\n",
       "      <td>Med (New York, N.Y.)</td>\n",
       "      <td>...</td>\n",
       "      <td>False</td>\n",
       "      <td>AHMED</td>\n",
       "      <td>W</td>\n",
       "      <td>W AHMED</td>\n",
       "      <td>WISAL AHMED</td>\n",
       "      <td>WISAL AHMED</td>\n",
       "      <td>1.0</td>\n",
       "      <td>[SWITZERLAND]</td>\n",
       "      <td>male</td>\n",
       "      <td>N=14424</td>\n",
       "    </tr>\n",
       "  </tbody>\n",
       "</table>\n",
       "<p>2 rows × 48 columns</p>\n",
       "</div>"
      ],
      "text/plain": [
       "        level_0                        Term  \\\n",
       "14422  35590230  10.1016/j.medj.2021.04.023   \n",
       "14423  35590230  10.1016/j.medj.2021.04.023   \n",
       "\n",
       "                                                   Title            Tags  \\\n",
       "14422  The role of the health sector in contributing ...  Included by VB   \n",
       "14423  The role of the health sector in contributing ...  Included by VB   \n",
       "\n",
       "              Origin    pmid_l  \\\n",
       "14422  covidence-doi  35590230   \n",
       "14423  covidence-doi  35590230   \n",
       "\n",
       "                                                   title  \\\n",
       "14422  The role of the health sector in contributing ...   \n",
       "14423  The role of the health sector in contributing ...   \n",
       "\n",
       "                            authors_list  \\\n",
       "14422  CHRISTINA C PALLITTO, WISAL AHMED   \n",
       "14423  CHRISTINA C PALLITTO, WISAL AHMED   \n",
       "\n",
       "                                                citation  \\\n",
       "14422  Pallitto CC, Ahmed W. The role of the health s...   \n",
       "14423  Pallitto CC, Ahmed W. The role of the health s...   \n",
       "\n",
       "               journal_book  ...  is_institutions_name last_name  \\\n",
       "14422  Med (New York, N.Y.)  ...                 False  PALLITTO   \n",
       "14423  Med (New York, N.Y.)  ...                 False     AHMED   \n",
       "\n",
       "      first_letter_name standard_name         deduplicated_name_std  \\\n",
       "14422                 C    C PALLITTO  CHRISTINA CATHERINE PALLITTO   \n",
       "14423                 W       W AHMED                   WISAL AHMED   \n",
       "\n",
       "                                     names_variation_std  n_variacoes_std  \\\n",
       "14422  CHRISTINA PALLITTO, CHRISTINA CATHERINE PALLIT...              5.0   \n",
       "14423                                        WISAL AHMED              1.0   \n",
       "\n",
       "           countries  gender constant  \n",
       "14422  [SWITZERLAND]  female  N=14424  \n",
       "14423  [SWITZERLAND]    male  N=14424  \n",
       "\n",
       "[2 rows x 48 columns]"
      ]
     },
     "execution_count": 43,
     "metadata": {},
     "output_type": "execute_result"
    }
   ],
   "source": [
    "authors.tail(2)"
   ]
  },
  {
   "cell_type": "code",
   "execution_count": 44,
   "id": "c816fe34",
   "metadata": {},
   "outputs": [
    {
     "data": {
      "text/html": [
       "<div>\n",
       "<style scoped>\n",
       "    .dataframe tbody tr th:only-of-type {\n",
       "        vertical-align: middle;\n",
       "    }\n",
       "\n",
       "    .dataframe tbody tr th {\n",
       "        vertical-align: top;\n",
       "    }\n",
       "\n",
       "    .dataframe thead th {\n",
       "        text-align: right;\n",
       "    }\n",
       "</style>\n",
       "<table border=\"1\" class=\"dataframe\">\n",
       "  <thead>\n",
       "    <tr style=\"text-align: right;\">\n",
       "      <th></th>\n",
       "      <th>deduplicated_name_std</th>\n",
       "      <th>first_name</th>\n",
       "      <th>gender</th>\n",
       "    </tr>\n",
       "  </thead>\n",
       "  <tbody>\n",
       "    <tr>\n",
       "      <th>429</th>\n",
       "      <td>I K Warriner</td>\n",
       "      <td>I</td>\n",
       "      <td>female</td>\n",
       "    </tr>\n",
       "  </tbody>\n",
       "</table>\n",
       "</div>"
      ],
      "text/plain": [
       "    deduplicated_name_std first_name  gender\n",
       "429          I K Warriner          I  female"
      ]
     },
     "execution_count": 44,
     "metadata": {},
     "output_type": "execute_result"
    }
   ],
   "source": [
    "names_checked[names_checked.deduplicated_name_std == \"I K WARRINER\".title()]"
   ]
  },
  {
   "cell_type": "code",
   "execution_count": 45,
   "id": "0693d5d1",
   "metadata": {},
   "outputs": [
    {
     "data": {
      "text/html": [
       "<div>\n",
       "<style scoped>\n",
       "    .dataframe tbody tr th:only-of-type {\n",
       "        vertical-align: middle;\n",
       "    }\n",
       "\n",
       "    .dataframe tbody tr th {\n",
       "        vertical-align: top;\n",
       "    }\n",
       "\n",
       "    .dataframe thead th {\n",
       "        text-align: right;\n",
       "    }\n",
       "</style>\n",
       "<table border=\"1\" class=\"dataframe\">\n",
       "  <thead>\n",
       "    <tr style=\"text-align: right;\">\n",
       "      <th></th>\n",
       "      <th>deduplicated_name_std</th>\n",
       "      <th>first_name</th>\n",
       "      <th>gender</th>\n",
       "    </tr>\n",
       "  </thead>\n",
       "  <tbody>\n",
       "    <tr>\n",
       "      <th>997</th>\n",
       "      <td>Z Fekete</td>\n",
       "      <td>Z</td>\n",
       "      <td>unknown</td>\n",
       "    </tr>\n",
       "    <tr>\n",
       "      <th>998</th>\n",
       "      <td>Zafiro Andrade Romo</td>\n",
       "      <td>ZAFIRO</td>\n",
       "      <td>male</td>\n",
       "    </tr>\n",
       "    <tr>\n",
       "      <th>999</th>\n",
       "      <td>C Abouzahr</td>\n",
       "      <td>C</td>\n",
       "      <td>female</td>\n",
       "    </tr>\n",
       "    <tr>\n",
       "      <th>1000</th>\n",
       "      <td>Bidia D Deperthes</td>\n",
       "      <td>BIDIA</td>\n",
       "      <td>female</td>\n",
       "    </tr>\n",
       "    <tr>\n",
       "      <th>1001</th>\n",
       "      <td>Qian Long</td>\n",
       "      <td>QIAN</td>\n",
       "      <td>female</td>\n",
       "    </tr>\n",
       "  </tbody>\n",
       "</table>\n",
       "</div>"
      ],
      "text/plain": [
       "     deduplicated_name_std first_name   gender\n",
       "997               Z Fekete          Z  unknown\n",
       "998    Zafiro Andrade Romo     ZAFIRO     male\n",
       "999             C Abouzahr          C   female\n",
       "1000     Bidia D Deperthes      BIDIA   female\n",
       "1001             Qian Long       QIAN   female"
      ]
     },
     "execution_count": 45,
     "metadata": {},
     "output_type": "execute_result"
    }
   ],
   "source": [
    "names_checked.tail()"
   ]
  },
  {
   "cell_type": "code",
   "execution_count": 46,
   "id": "4e4fd7f2",
   "metadata": {},
   "outputs": [
    {
     "data": {
      "text/html": [
       "<div>\n",
       "<style scoped>\n",
       "    .dataframe tbody tr th:only-of-type {\n",
       "        vertical-align: middle;\n",
       "    }\n",
       "\n",
       "    .dataframe tbody tr th {\n",
       "        vertical-align: top;\n",
       "    }\n",
       "\n",
       "    .dataframe thead th {\n",
       "        text-align: right;\n",
       "    }\n",
       "</style>\n",
       "<table border=\"1\" class=\"dataframe\">\n",
       "  <thead>\n",
       "    <tr style=\"text-align: right;\">\n",
       "      <th></th>\n",
       "      <th>level_0</th>\n",
       "      <th>Term</th>\n",
       "      <th>Title</th>\n",
       "      <th>Tags</th>\n",
       "      <th>Origin</th>\n",
       "      <th>pmid_l</th>\n",
       "      <th>title</th>\n",
       "      <th>authors_list</th>\n",
       "      <th>citation</th>\n",
       "      <th>journal_book</th>\n",
       "      <th>...</th>\n",
       "      <th>is_institutions_name</th>\n",
       "      <th>last_name</th>\n",
       "      <th>first_letter_name</th>\n",
       "      <th>standard_name</th>\n",
       "      <th>deduplicated_name_std</th>\n",
       "      <th>names_variation_std</th>\n",
       "      <th>n_variacoes_std</th>\n",
       "      <th>countries</th>\n",
       "      <th>gender</th>\n",
       "      <th>constant</th>\n",
       "    </tr>\n",
       "  </thead>\n",
       "  <tbody>\n",
       "    <tr>\n",
       "      <th>1791</th>\n",
       "      <td>17141703</td>\n",
       "      <td>17141703</td>\n",
       "      <td>Rates of complication in first-trimester manua...</td>\n",
       "      <td>Included by VB</td>\n",
       "      <td>covidence-doi</td>\n",
       "      <td>17141703</td>\n",
       "      <td>Rates of complication in first-trimester manua...</td>\n",
       "      <td>I K WARRINER, O MEIRIK, M HOFFMAN, C MORRONI, ...</td>\n",
       "      <td>Warriner IK, Meirik O, Hoffman M, et al. Rates...</td>\n",
       "      <td>Lancet (London, England)</td>\n",
       "      <td>...</td>\n",
       "      <td>False</td>\n",
       "      <td>WARRINER</td>\n",
       "      <td>I</td>\n",
       "      <td>I WARRINER</td>\n",
       "      <td>I K WARRINER</td>\n",
       "      <td>I K WARRINER</td>\n",
       "      <td>1.0</td>\n",
       "      <td>[SWITZERLAND]</td>\n",
       "      <td>female</td>\n",
       "      <td>N=14424</td>\n",
       "    </tr>\n",
       "    <tr>\n",
       "      <th>8591</th>\n",
       "      <td>29246235</td>\n",
       "      <td>10.1186/s12978-017-0438-7</td>\n",
       "      <td>Comparative satisfaction of receiving medical ...</td>\n",
       "      <td>Included by VB</td>\n",
       "      <td>covidence-doi</td>\n",
       "      <td>29246235</td>\n",
       "      <td>Comparative satisfaction of receiving medical ...</td>\n",
       "      <td>ANAND TAMANG, IQBAL H SHAH, PRAGYA SHRESTHA, I...</td>\n",
       "      <td>Tamang A, Shah IH, Shrestha P, et al. Comparat...</td>\n",
       "      <td>Reproductive health</td>\n",
       "      <td>...</td>\n",
       "      <td>False</td>\n",
       "      <td>WARRINER</td>\n",
       "      <td>I</td>\n",
       "      <td>I WARRINER</td>\n",
       "      <td>I K WARRINER</td>\n",
       "      <td>I K WARRINER</td>\n",
       "      <td>1.0</td>\n",
       "      <td>[UNITED STATES OF AMERICA]</td>\n",
       "      <td>female</td>\n",
       "      <td>N=14424</td>\n",
       "    </tr>\n",
       "  </tbody>\n",
       "</table>\n",
       "<p>2 rows × 48 columns</p>\n",
       "</div>"
      ],
      "text/plain": [
       "       level_0                       Term  \\\n",
       "1791  17141703                   17141703   \n",
       "8591  29246235  10.1186/s12978-017-0438-7   \n",
       "\n",
       "                                                  Title            Tags  \\\n",
       "1791  Rates of complication in first-trimester manua...  Included by VB   \n",
       "8591  Comparative satisfaction of receiving medical ...  Included by VB   \n",
       "\n",
       "             Origin    pmid_l  \\\n",
       "1791  covidence-doi  17141703   \n",
       "8591  covidence-doi  29246235   \n",
       "\n",
       "                                                  title  \\\n",
       "1791  Rates of complication in first-trimester manua...   \n",
       "8591  Comparative satisfaction of receiving medical ...   \n",
       "\n",
       "                                           authors_list  \\\n",
       "1791  I K WARRINER, O MEIRIK, M HOFFMAN, C MORRONI, ...   \n",
       "8591  ANAND TAMANG, IQBAL H SHAH, PRAGYA SHRESTHA, I...   \n",
       "\n",
       "                                               citation  \\\n",
       "1791  Warriner IK, Meirik O, Hoffman M, et al. Rates...   \n",
       "8591  Tamang A, Shah IH, Shrestha P, et al. Comparat...   \n",
       "\n",
       "                  journal_book  ...  is_institutions_name last_name  \\\n",
       "1791  Lancet (London, England)  ...                 False  WARRINER   \n",
       "8591       Reproductive health  ...                 False  WARRINER   \n",
       "\n",
       "     first_letter_name standard_name deduplicated_name_std  \\\n",
       "1791                 I    I WARRINER          I K WARRINER   \n",
       "8591                 I    I WARRINER          I K WARRINER   \n",
       "\n",
       "     names_variation_std  n_variacoes_std                   countries  gender  \\\n",
       "1791        I K WARRINER              1.0               [SWITZERLAND]  female   \n",
       "8591        I K WARRINER              1.0  [UNITED STATES OF AMERICA]  female   \n",
       "\n",
       "     constant  \n",
       "1791  N=14424  \n",
       "8591  N=14424  \n",
       "\n",
       "[2 rows x 48 columns]"
      ]
     },
     "execution_count": 46,
     "metadata": {},
     "output_type": "execute_result"
    }
   ],
   "source": [
    "authors[authors.deduplicated_name_std == \"I K WARRINER\"]#, 'affiliation']"
   ]
  },
  {
   "cell_type": "code",
   "execution_count": 47,
   "id": "463e2227",
   "metadata": {},
   "outputs": [
    {
     "name": "stderr",
     "output_type": "stream",
     "text": [
      "C:\\Users\\livia\\Anaconda3\\lib\\site-packages\\researchpy\\crosstab.py:94: RuntimeWarning: invalid value encountered in true_divide\n",
      "  V = numpy.sqrt(test_val / (n * min((num_row - 1), (num_col - 1))))\n",
      "C:\\Users\\livia\\Anaconda3\\lib\\site-packages\\researchpy\\crosstab.py:94: RuntimeWarning: invalid value encountered in true_divide\n",
      "  V = numpy.sqrt(test_val / (n * min((num_row - 1), (num_col - 1))))\n"
     ]
    },
    {
     "data": {
      "text/html": [
       "<div>\n",
       "<style scoped>\n",
       "    .dataframe tbody tr th:only-of-type {\n",
       "        vertical-align: middle;\n",
       "    }\n",
       "\n",
       "    .dataframe tbody tr th {\n",
       "        vertical-align: top;\n",
       "    }\n",
       "\n",
       "    .dataframe thead tr th {\n",
       "        text-align: left;\n",
       "    }\n",
       "\n",
       "    .dataframe thead tr:last-of-type th {\n",
       "        text-align: right;\n",
       "    }\n",
       "</style>\n",
       "<table border=\"1\" class=\"dataframe\">\n",
       "  <thead>\n",
       "    <tr>\n",
       "      <th>constant</th>\n",
       "      <th colspan=\"2\" halign=\"left\">N=5950</th>\n",
       "      <th colspan=\"2\" halign=\"left\">All</th>\n",
       "    </tr>\n",
       "    <tr>\n",
       "      <th>distribuição</th>\n",
       "      <th>N</th>\n",
       "      <th>%</th>\n",
       "      <th>N</th>\n",
       "      <th>%</th>\n",
       "    </tr>\n",
       "    <tr>\n",
       "      <th>gender</th>\n",
       "      <th></th>\n",
       "      <th></th>\n",
       "      <th></th>\n",
       "      <th></th>\n",
       "    </tr>\n",
       "  </thead>\n",
       "  <tbody>\n",
       "    <tr>\n",
       "      <th>female</th>\n",
       "      <td>2531</td>\n",
       "      <td>(42.54%)</td>\n",
       "      <td>2531</td>\n",
       "      <td>(42.54%)</td>\n",
       "    </tr>\n",
       "    <tr>\n",
       "      <th>male</th>\n",
       "      <td>2090</td>\n",
       "      <td>(35.13%)</td>\n",
       "      <td>2090</td>\n",
       "      <td>(35.13%)</td>\n",
       "    </tr>\n",
       "    <tr>\n",
       "      <th>unknown</th>\n",
       "      <td>1329</td>\n",
       "      <td>(22.34%)</td>\n",
       "      <td>1329</td>\n",
       "      <td>(22.34%)</td>\n",
       "    </tr>\n",
       "    <tr>\n",
       "      <th>All</th>\n",
       "      <td>5950</td>\n",
       "      <td>(100.0%)</td>\n",
       "      <td>5950</td>\n",
       "      <td>(100.0%)</td>\n",
       "    </tr>\n",
       "  </tbody>\n",
       "</table>\n",
       "</div>"
      ],
      "text/plain": [
       "constant     N=5950             All          \n",
       "distribuição      N         %     N         %\n",
       "gender                                       \n",
       "female         2531  (42.54%)  2531  (42.54%)\n",
       "male           2090  (35.13%)  2090  (35.13%)\n",
       "unknown        1329  (22.34%)  1329  (22.34%)\n",
       "All            5950  (100.0%)  5950  (100.0%)"
      ]
     },
     "execution_count": 47,
     "metadata": {},
     "output_type": "execute_result"
    }
   ],
   "source": [
    "unique_authors = authors[[\"deduplicated_name_std\", \"gender\", \"countries\"]].drop_duplicates(subset=[\"deduplicated_name_std\"])\n",
    "unique_authors['constant'] =[\"N={}\".format(len(unique_authors)) for i in unique_authors['gender']]\n",
    "tabelaEstiloArtigoCategoricas(unique_authors, 'constant', 'gender', probabilidade='col')"
   ]
  },
  {
   "cell_type": "code",
   "execution_count": 48,
   "id": "a34cec21",
   "metadata": {},
   "outputs": [
    {
     "data": {
      "text/html": [
       "<div>\n",
       "<style scoped>\n",
       "    .dataframe tbody tr th:only-of-type {\n",
       "        vertical-align: middle;\n",
       "    }\n",
       "\n",
       "    .dataframe tbody tr th {\n",
       "        vertical-align: top;\n",
       "    }\n",
       "\n",
       "    .dataframe thead th {\n",
       "        text-align: right;\n",
       "    }\n",
       "</style>\n",
       "<table border=\"1\" class=\"dataframe\">\n",
       "  <thead>\n",
       "    <tr style=\"text-align: right;\">\n",
       "      <th></th>\n",
       "      <th>deduplicated_name_std</th>\n",
       "      <th>gender</th>\n",
       "      <th>countries</th>\n",
       "      <th>constant</th>\n",
       "    </tr>\n",
       "  </thead>\n",
       "  <tbody>\n",
       "    <tr>\n",
       "      <th>0</th>\n",
       "      <td>TIMOTHY M M FARLEY</td>\n",
       "      <td>male</td>\n",
       "      <td>[]</td>\n",
       "      <td>N=5950</td>\n",
       "    </tr>\n",
       "    <tr>\n",
       "      <th>1</th>\n",
       "      <td>M J ROSENBERG</td>\n",
       "      <td>unknown</td>\n",
       "      <td>[]</td>\n",
       "      <td>N=5950</td>\n",
       "    </tr>\n",
       "  </tbody>\n",
       "</table>\n",
       "</div>"
      ],
      "text/plain": [
       "  deduplicated_name_std   gender countries constant\n",
       "0    TIMOTHY M M FARLEY     male        []   N=5950\n",
       "1         M J ROSENBERG  unknown        []   N=5950"
      ]
     },
     "execution_count": 48,
     "metadata": {},
     "output_type": "execute_result"
    }
   ],
   "source": [
    "unique_authors.head(2)"
   ]
  },
  {
   "cell_type": "code",
   "execution_count": 49,
   "id": "a4fe8346",
   "metadata": {},
   "outputs": [],
   "source": [
    "unknown_gender_authors = authors[authors.gender == 'unknown']\n",
    "#authors.gender.replace('andy', 'unknown', inplace=True)\n",
    "#authors.gender.replace('unknown', np.nan, inplace=True)\n",
    "\n",
    "authors.to_csv(path+'authors_gender.csv', encoding=\"utf-8\", index=False)"
   ]
  },
  {
   "cell_type": "code",
   "execution_count": 63,
   "id": "71645831",
   "metadata": {},
   "outputs": [
    {
     "data": {
      "text/plain": [
       "29178847    244\n",
       "33095526    241\n",
       "28643241    229\n",
       "12439712    221\n",
       "34273300    181\n",
       "           ... \n",
       "11988263      1\n",
       "12429451      1\n",
       "21262436      1\n",
       "3533420       1\n",
       "10492095      1\n",
       "Name: pmid, Length: 1484, dtype: int64"
      ]
     },
     "execution_count": 63,
     "metadata": {},
     "output_type": "execute_result"
    }
   ],
   "source": [
    "authors.pmid.value_counts()"
   ]
  },
  {
   "cell_type": "code",
   "execution_count": 51,
   "id": "adb1dd37",
   "metadata": {},
   "outputs": [],
   "source": [
    "#authors.pmid.value_counts()"
   ]
  },
  {
   "cell_type": "code",
   "execution_count": 52,
   "id": "6afbf785",
   "metadata": {},
   "outputs": [
    {
     "name": "stdout",
     "output_type": "stream",
     "text": [
      "0\n"
     ]
    },
    {
     "name": "stderr",
     "output_type": "stream",
     "text": [
      "C:\\Users\\livia\\Anaconda3\\lib\\site-packages\\researchpy\\crosstab.py:94: RuntimeWarning: invalid value encountered in true_divide\n",
      "  V = numpy.sqrt(test_val / (n * min((num_row - 1), (num_col - 1))))\n",
      "C:\\Users\\livia\\Anaconda3\\lib\\site-packages\\researchpy\\crosstab.py:94: RuntimeWarning: invalid value encountered in true_divide\n",
      "  V = numpy.sqrt(test_val / (n * min((num_row - 1), (num_col - 1))))\n"
     ]
    },
    {
     "data": {
      "text/html": [
       "<div>\n",
       "<style scoped>\n",
       "    .dataframe tbody tr th:only-of-type {\n",
       "        vertical-align: middle;\n",
       "    }\n",
       "\n",
       "    .dataframe tbody tr th {\n",
       "        vertical-align: top;\n",
       "    }\n",
       "\n",
       "    .dataframe thead tr th {\n",
       "        text-align: left;\n",
       "    }\n",
       "\n",
       "    .dataframe thead tr:last-of-type th {\n",
       "        text-align: right;\n",
       "    }\n",
       "</style>\n",
       "<table border=\"1\" class=\"dataframe\">\n",
       "  <thead>\n",
       "    <tr>\n",
       "      <th>constant</th>\n",
       "      <th colspan=\"2\" halign=\"left\">N=14424</th>\n",
       "      <th colspan=\"2\" halign=\"left\">All</th>\n",
       "    </tr>\n",
       "    <tr>\n",
       "      <th>distribuição</th>\n",
       "      <th>N</th>\n",
       "      <th>%</th>\n",
       "      <th>N</th>\n",
       "      <th>%</th>\n",
       "    </tr>\n",
       "    <tr>\n",
       "      <th>gender</th>\n",
       "      <th></th>\n",
       "      <th></th>\n",
       "      <th></th>\n",
       "      <th></th>\n",
       "    </tr>\n",
       "  </thead>\n",
       "  <tbody>\n",
       "    <tr>\n",
       "      <th>female</th>\n",
       "      <td>6653</td>\n",
       "      <td>(46.12%)</td>\n",
       "      <td>6653</td>\n",
       "      <td>(46.12%)</td>\n",
       "    </tr>\n",
       "    <tr>\n",
       "      <th>male</th>\n",
       "      <td>5917</td>\n",
       "      <td>(41.02%)</td>\n",
       "      <td>5917</td>\n",
       "      <td>(41.02%)</td>\n",
       "    </tr>\n",
       "    <tr>\n",
       "      <th>unknown</th>\n",
       "      <td>1854</td>\n",
       "      <td>(12.85%)</td>\n",
       "      <td>1854</td>\n",
       "      <td>(12.85%)</td>\n",
       "    </tr>\n",
       "    <tr>\n",
       "      <th>All</th>\n",
       "      <td>14424</td>\n",
       "      <td>(100.0%)</td>\n",
       "      <td>14424</td>\n",
       "      <td>(100.0%)</td>\n",
       "    </tr>\n",
       "  </tbody>\n",
       "</table>\n",
       "</div>"
      ],
      "text/plain": [
       "constant     N=14424              All          \n",
       "distribuição       N         %      N         %\n",
       "gender                                         \n",
       "female          6653  (46.12%)   6653  (46.12%)\n",
       "male            5917  (41.02%)   5917  (41.02%)\n",
       "unknown         1854  (12.85%)   1854  (12.85%)\n",
       "All            14424  (100.0%)  14424  (100.0%)"
      ]
     },
     "execution_count": 52,
     "metadata": {},
     "output_type": "execute_result"
    }
   ],
   "source": [
    "print(authors.gender.isna().sum())\n",
    "tabelaEstiloArtigoCategoricas(authors, 'constant', 'gender', probabilidade='col')"
   ]
  },
  {
   "cell_type": "code",
   "execution_count": 53,
   "id": "bdc241a3",
   "metadata": {},
   "outputs": [
    {
     "name": "stdout",
     "output_type": "stream",
     "text": [
      "Total of unique names unknown gender: 0 (0.00%)\n",
      "Total of names unknown gender: 0 (0.00%)\n",
      "\n",
      "Total of unique names suggested gender: 4621 (77.66%)\n",
      "Total of names suggested gender: 12570 (87.15%)\n"
     ]
    }
   ],
   "source": [
    "## Check if there are names without gender classifications\n",
    "unknown_gender_authors = authors[authors.gender == np.nan]\n",
    "print(\"Total of unique names unknown gender: {} ({:.2%})\".\n",
    "      format(len(unknown_gender_authors.deduplicated_name_std.unique()), \n",
    "            len(unknown_gender_authors.deduplicated_name_std.unique())/len(authors.deduplicated_name_std.unique())))\n",
    "print(\"Total of names unknown gender: {} ({:.2%})\\n\".format(len(unknown_gender_authors.deduplicated_name_std),\n",
    "            len(unknown_gender_authors.deduplicated_name_std)/len(authors.deduplicated_name_std)))\n",
    "\n",
    "known_gender_authors = authors[authors.gender != 'unknown']\n",
    "print(\"Total of unique names suggested gender: {} ({:.2%})\".\n",
    "      format(len(known_gender_authors.deduplicated_name_std.unique()), \n",
    "            len(known_gender_authors.deduplicated_name_std.unique())/len(authors.deduplicated_name_std.unique())))\n",
    "print(\"Total of names suggested gender: {} ({:.2%})\".format(len(known_gender_authors.deduplicated_name_std),\n",
    "            len(known_gender_authors.deduplicated_name_std)/len(authors.deduplicated_name_std)))\n"
   ]
  },
  {
   "cell_type": "code",
   "execution_count": 54,
   "id": "ecdc301e",
   "metadata": {},
   "outputs": [
    {
     "data": {
      "text/html": [
       "<div>\n",
       "<style scoped>\n",
       "    .dataframe tbody tr th:only-of-type {\n",
       "        vertical-align: middle;\n",
       "    }\n",
       "\n",
       "    .dataframe tbody tr th {\n",
       "        vertical-align: top;\n",
       "    }\n",
       "\n",
       "    .dataframe thead th {\n",
       "        text-align: right;\n",
       "    }\n",
       "</style>\n",
       "<table border=\"1\" class=\"dataframe\">\n",
       "  <thead>\n",
       "    <tr style=\"text-align: right;\">\n",
       "      <th></th>\n",
       "      <th>pmid</th>\n",
       "      <th>first_name_is_letter</th>\n",
       "      <th>first_name</th>\n",
       "    </tr>\n",
       "    <tr>\n",
       "      <th>deduplicated_name_std</th>\n",
       "      <th></th>\n",
       "      <th></th>\n",
       "      <th></th>\n",
       "    </tr>\n",
       "  </thead>\n",
       "  <tbody>\n",
       "    <tr>\n",
       "      <th>B M LANDGREN</th>\n",
       "      <td>15</td>\n",
       "      <td>1</td>\n",
       "      <td>B</td>\n",
       "    </tr>\n",
       "    <tr>\n",
       "      <th>SOO DOWNE</th>\n",
       "      <td>13</td>\n",
       "      <td>0</td>\n",
       "      <td>SOO</td>\n",
       "    </tr>\n",
       "    <tr>\n",
       "      <th>E JOHANNISSON</th>\n",
       "      <td>12</td>\n",
       "      <td>1</td>\n",
       "      <td>E</td>\n",
       "    </tr>\n",
       "    <tr>\n",
       "      <th>MAGS E BEKSINSKA</th>\n",
       "      <td>9</td>\n",
       "      <td>0</td>\n",
       "      <td>MAGS</td>\n",
       "    </tr>\n",
       "    <tr>\n",
       "      <th>PING TERESA YEH</th>\n",
       "      <td>9</td>\n",
       "      <td>0</td>\n",
       "      <td>PING</td>\n",
       "    </tr>\n",
       "  </tbody>\n",
       "</table>\n",
       "</div>"
      ],
      "text/plain": [
       "                       pmid  first_name_is_letter first_name\n",
       "deduplicated_name_std                                       \n",
       "B M LANDGREN             15                     1          B\n",
       "SOO DOWNE                13                     0        SOO\n",
       "E JOHANNISSON            12                     1          E\n",
       "MAGS E BEKSINSKA          9                     0       MAGS\n",
       "PING TERESA YEH           9                     0       PING"
      ]
     },
     "execution_count": 54,
     "metadata": {},
     "output_type": "execute_result"
    }
   ],
   "source": [
    "unknown_gender_authors = authors[authors.gender == 'unknown'].groupby('deduplicated_name_std')[['pmid']].count().sort_values(by='pmid', ascending=False)\n",
    "unknown_gender_authors['first_name_is_letter'] = [1 if len(first_name.split(' ')[0]) == 1 else 0 for first_name in unknown_gender_authors.index]\n",
    "unknown_gender_authors['first_name'] = [first_name.split(' ')[0] for first_name in unknown_gender_authors.index]\n",
    "\n",
    "\n",
    "unknown_gender_authors.to_csv(path + \"author_unknown_gender.csv\", encoding=\"utf-8\")\n",
    "unknown_gender_authors.head()"
   ]
  },
  {
   "cell_type": "code",
   "execution_count": 55,
   "id": "c4379986",
   "metadata": {},
   "outputs": [
    {
     "data": {
      "text/html": [
       "<div>\n",
       "<style scoped>\n",
       "    .dataframe tbody tr th:only-of-type {\n",
       "        vertical-align: middle;\n",
       "    }\n",
       "\n",
       "    .dataframe tbody tr th {\n",
       "        vertical-align: top;\n",
       "    }\n",
       "\n",
       "    .dataframe thead th {\n",
       "        text-align: right;\n",
       "    }\n",
       "</style>\n",
       "<table border=\"1\" class=\"dataframe\">\n",
       "  <thead>\n",
       "    <tr style=\"text-align: right;\">\n",
       "      <th></th>\n",
       "      <th>pmid</th>\n",
       "      <th>first_name_is_letter</th>\n",
       "      <th>first_name</th>\n",
       "    </tr>\n",
       "    <tr>\n",
       "      <th>deduplicated_name_std</th>\n",
       "      <th></th>\n",
       "      <th></th>\n",
       "      <th></th>\n",
       "    </tr>\n",
       "  </thead>\n",
       "  <tbody>\n",
       "    <tr>\n",
       "      <th>B M LANDGREN</th>\n",
       "      <td>15</td>\n",
       "      <td>1</td>\n",
       "      <td>B</td>\n",
       "    </tr>\n",
       "    <tr>\n",
       "      <th>SOO DOWNE</th>\n",
       "      <td>13</td>\n",
       "      <td>0</td>\n",
       "      <td>SOO</td>\n",
       "    </tr>\n",
       "    <tr>\n",
       "      <th>E JOHANNISSON</th>\n",
       "      <td>12</td>\n",
       "      <td>1</td>\n",
       "      <td>E</td>\n",
       "    </tr>\n",
       "    <tr>\n",
       "      <th>MAGS E BEKSINSKA</th>\n",
       "      <td>9</td>\n",
       "      <td>0</td>\n",
       "      <td>MAGS</td>\n",
       "    </tr>\n",
       "    <tr>\n",
       "      <th>PING TERESA YEH</th>\n",
       "      <td>9</td>\n",
       "      <td>0</td>\n",
       "      <td>PING</td>\n",
       "    </tr>\n",
       "    <tr>\n",
       "      <th>...</th>\n",
       "      <td>...</td>\n",
       "      <td>...</td>\n",
       "      <td>...</td>\n",
       "    </tr>\n",
       "    <tr>\n",
       "      <th>J C CHILD</th>\n",
       "      <td>1</td>\n",
       "      <td>1</td>\n",
       "      <td>J</td>\n",
       "    </tr>\n",
       "    <tr>\n",
       "      <th>J BERLIN</th>\n",
       "      <td>1</td>\n",
       "      <td>1</td>\n",
       "      <td>J</td>\n",
       "    </tr>\n",
       "    <tr>\n",
       "      <th>J BANCROFT</th>\n",
       "      <td>1</td>\n",
       "      <td>1</td>\n",
       "      <td>J</td>\n",
       "    </tr>\n",
       "    <tr>\n",
       "      <th>J BAKER</th>\n",
       "      <td>1</td>\n",
       "      <td>1</td>\n",
       "      <td>J</td>\n",
       "    </tr>\n",
       "    <tr>\n",
       "      <th>ZVAVAHERA MIKE CHIRENJE</th>\n",
       "      <td>1</td>\n",
       "      <td>0</td>\n",
       "      <td>ZVAVAHERA</td>\n",
       "    </tr>\n",
       "  </tbody>\n",
       "</table>\n",
       "<p>1329 rows × 3 columns</p>\n",
       "</div>"
      ],
      "text/plain": [
       "                         pmid  first_name_is_letter first_name\n",
       "deduplicated_name_std                                         \n",
       "B M LANDGREN               15                     1          B\n",
       "SOO DOWNE                  13                     0        SOO\n",
       "E JOHANNISSON              12                     1          E\n",
       "MAGS E BEKSINSKA            9                     0       MAGS\n",
       "PING TERESA YEH             9                     0       PING\n",
       "...                       ...                   ...        ...\n",
       "J C CHILD                   1                     1          J\n",
       "J BERLIN                    1                     1          J\n",
       "J BANCROFT                  1                     1          J\n",
       "J BAKER                     1                     1          J\n",
       "ZVAVAHERA MIKE CHIRENJE     1                     0  ZVAVAHERA\n",
       "\n",
       "[1329 rows x 3 columns]"
      ]
     },
     "execution_count": 55,
     "metadata": {},
     "output_type": "execute_result"
    }
   ],
   "source": [
    "unknown_gender_authors.first_name.value_counts().to_csv(path+\"first_name_unknow_gender_count.csv\", encoding=\"utf-8\")\n",
    "unknown_gender_authors#.first_name.value_counts()"
   ]
  },
  {
   "cell_type": "code",
   "execution_count": 56,
   "id": "9d688984",
   "metadata": {},
   "outputs": [
    {
     "data": {
      "application/vnd.jupyter.widget-view+json": {
       "model_id": "4458ce5a37844426b61486279c0a128d",
       "version_major": 2,
       "version_minor": 0
      },
      "text/plain": [
       "Summarize dataset:   0%|          | 0/45 [00:00<?, ?it/s]"
      ]
     },
     "metadata": {},
     "output_type": "display_data"
    },
    {
     "name": "stderr",
     "output_type": "stream",
     "text": [
      "C:\\Users\\livia\\Anaconda3\\lib\\site-packages\\pandas_profiling\\model\\correlations.py:133: UserWarning: There was an attempt to calculate the cramers correlation, but this failed.\n",
      "To hide this warning, disable the calculation\n",
      "(using `df.profile_report(correlations={\"cramers\": {\"calculate\": False}})`\n",
      "If this is problematic for your use case, please report this as an issue:\n",
      "https://github.com/pandas-profiling/pandas-profiling/issues\n",
      "(include the error message: 'No data; `observed` has size 0.')\n",
      "  warnings.warn(\n"
     ]
    },
    {
     "data": {
      "application/vnd.jupyter.widget-view+json": {
       "model_id": "485aa57dc16b45ecb3e4c48d6e778a1e",
       "version_major": 2,
       "version_minor": 0
      },
      "text/plain": [
       "Generate report structure:   0%|          | 0/1 [00:00<?, ?it/s]"
      ]
     },
     "metadata": {},
     "output_type": "display_data"
    },
    {
     "data": {
      "application/vnd.jupyter.widget-view+json": {
       "model_id": "66774bac731c40298a55a3dd00599d6a",
       "version_major": 2,
       "version_minor": 0
      },
      "text/plain": [
       "Render HTML:   0%|          | 0/1 [00:00<?, ?it/s]"
      ]
     },
     "metadata": {},
     "output_type": "display_data"
    },
    {
     "data": {
      "application/vnd.jupyter.widget-view+json": {
       "model_id": "0400090eeddb44b39291120d84bc51c4",
       "version_major": 2,
       "version_minor": 0
      },
      "text/plain": [
       "Export report to file:   0%|          | 0/1 [00:00<?, ?it/s]"
      ]
     },
     "metadata": {},
     "output_type": "display_data"
    }
   ],
   "source": [
    "papers\n",
    "profile = ProfileReport(papers.drop(\"abstract\", axis=1))#, minimal=True)\n",
    "profile.to_file(path + \"papers.html\")"
   ]
  },
  {
   "cell_type": "code",
   "execution_count": 57,
   "id": "c7bf7405",
   "metadata": {},
   "outputs": [
    {
     "data": {
      "application/vnd.jupyter.widget-view+json": {
       "model_id": "5b8a7876d86e46a2b6ad88bc4c224079",
       "version_major": 2,
       "version_minor": 0
      },
      "text/plain": [
       "Summarize dataset:   0%|          | 0/56 [00:00<?, ?it/s]"
      ]
     },
     "metadata": {},
     "output_type": "display_data"
    },
    {
     "data": {
      "application/vnd.jupyter.widget-view+json": {
       "model_id": "005d8703bef043888025945372d5632f",
       "version_major": 2,
       "version_minor": 0
      },
      "text/plain": [
       "Generate report structure:   0%|          | 0/1 [00:00<?, ?it/s]"
      ]
     },
     "metadata": {},
     "output_type": "display_data"
    },
    {
     "data": {
      "application/vnd.jupyter.widget-view+json": {
       "model_id": "993f017ef7654b6fb448ce35822cb9c6",
       "version_major": 2,
       "version_minor": 0
      },
      "text/plain": [
       "Render HTML:   0%|          | 0/1 [00:00<?, ?it/s]"
      ]
     },
     "metadata": {},
     "output_type": "display_data"
    },
    {
     "data": {
      "application/vnd.jupyter.widget-view+json": {
       "model_id": "edbc8aff3c2c4fcfb8191416b72caf9a",
       "version_major": 2,
       "version_minor": 0
      },
      "text/plain": [
       "Export report to file:   0%|          | 0/1 [00:00<?, ?it/s]"
      ]
     },
     "metadata": {},
     "output_type": "display_data"
    }
   ],
   "source": [
    "authors\n",
    "profile = ProfileReport(authors, minimal=True)\n",
    "profile.to_file(path + \"authors.html\")"
   ]
  },
  {
   "cell_type": "code",
   "execution_count": 58,
   "id": "54460f23",
   "metadata": {},
   "outputs": [
    {
     "data": {
      "application/vnd.jupyter.widget-view+json": {
       "model_id": "1b4f13a913fc4a6196268372300fe1a6",
       "version_major": 2,
       "version_minor": 0
      },
      "text/plain": [
       "Summarize dataset:   0%|          | 0/61 [00:00<?, ?it/s]"
      ]
     },
     "metadata": {},
     "output_type": "display_data"
    },
    {
     "name": "stderr",
     "output_type": "stream",
     "text": [
      "C:\\Users\\livia\\Anaconda3\\lib\\site-packages\\pandas_profiling\\model\\correlations.py:133: UserWarning: There was an attempt to calculate the cramers correlation, but this failed.\n",
      "To hide this warning, disable the calculation\n",
      "(using `df.profile_report(correlations={\"cramers\": {\"calculate\": False}})`\n",
      "If this is problematic for your use case, please report this as an issue:\n",
      "https://github.com/pandas-profiling/pandas-profiling/issues\n",
      "(include the error message: 'No data; `observed` has size 0.')\n",
      "  warnings.warn(\n"
     ]
    },
    {
     "data": {
      "application/vnd.jupyter.widget-view+json": {
       "model_id": "cdf0f2705dcb40d1a62c5b135b4d39bd",
       "version_major": 2,
       "version_minor": 0
      },
      "text/plain": [
       "Generate report structure:   0%|          | 0/1 [00:00<?, ?it/s]"
      ]
     },
     "metadata": {},
     "output_type": "display_data"
    },
    {
     "data": {
      "application/vnd.jupyter.widget-view+json": {
       "model_id": "51535569df294791aa1a450622a64450",
       "version_major": 2,
       "version_minor": 0
      },
      "text/plain": [
       "Render HTML:   0%|          | 0/1 [00:00<?, ?it/s]"
      ]
     },
     "metadata": {},
     "output_type": "display_data"
    },
    {
     "data": {
      "application/vnd.jupyter.widget-view+json": {
       "model_id": "e434e64a0a114b5fbf8f1c3ae8ad3a9c",
       "version_major": 2,
       "version_minor": 0
      },
      "text/plain": [
       "Export report to file:   0%|          | 0/1 [00:00<?, ?it/s]"
      ]
     },
     "metadata": {},
     "output_type": "display_data"
    },
    {
     "data": {
      "application/vnd.jupyter.widget-view+json": {
       "model_id": "fd7ac8940b604baf8bdef07f045031ca",
       "version_major": 2,
       "version_minor": 0
      },
      "text/plain": [
       "Summarize dataset:   0%|          | 0/57 [00:00<?, ?it/s]"
      ]
     },
     "metadata": {},
     "output_type": "display_data"
    },
    {
     "data": {
      "application/vnd.jupyter.widget-view+json": {
       "model_id": "ad27efa4e62d474cb3215ebd3795c1e4",
       "version_major": 2,
       "version_minor": 0
      },
      "text/plain": [
       "Generate report structure:   0%|          | 0/1 [00:00<?, ?it/s]"
      ]
     },
     "metadata": {},
     "output_type": "display_data"
    },
    {
     "data": {
      "application/vnd.jupyter.widget-view+json": {
       "model_id": "2743637429b24868bd67962db97ac5c1",
       "version_major": 2,
       "version_minor": 0
      },
      "text/plain": [
       "Render HTML:   0%|          | 0/1 [00:00<?, ?it/s]"
      ]
     },
     "metadata": {},
     "output_type": "display_data"
    },
    {
     "data": {
      "application/vnd.jupyter.widget-view+json": {
       "model_id": "70f377bdbef04c6cbefb9a8785049de4",
       "version_major": 2,
       "version_minor": 0
      },
      "text/plain": [
       "Export report to file:   0%|          | 0/1 [00:00<?, ?it/s]"
      ]
     },
     "metadata": {},
     "output_type": "display_data"
    },
    {
     "data": {
      "application/vnd.jupyter.widget-view+json": {
       "model_id": "3895fc2e8f354969a184d222ced2c78e",
       "version_major": 2,
       "version_minor": 0
      },
      "text/plain": [
       "Summarize dataset:   0%|          | 0/57 [00:00<?, ?it/s]"
      ]
     },
     "metadata": {},
     "output_type": "display_data"
    },
    {
     "data": {
      "application/vnd.jupyter.widget-view+json": {
       "model_id": "695ac83ef40647e89f977fc16d978ac9",
       "version_major": 2,
       "version_minor": 0
      },
      "text/plain": [
       "Generate report structure:   0%|          | 0/1 [00:00<?, ?it/s]"
      ]
     },
     "metadata": {},
     "output_type": "display_data"
    },
    {
     "data": {
      "application/vnd.jupyter.widget-view+json": {
       "model_id": "bfda0e672ab644e0b645ef79ae8bcc9c",
       "version_major": 2,
       "version_minor": 0
      },
      "text/plain": [
       "Render HTML:   0%|          | 0/1 [00:00<?, ?it/s]"
      ]
     },
     "metadata": {},
     "output_type": "display_data"
    },
    {
     "data": {
      "application/vnd.jupyter.widget-view+json": {
       "model_id": "76af9965eed94919a9a9781359f68174",
       "version_major": 2,
       "version_minor": 0
      },
      "text/plain": [
       "Export report to file:   0%|          | 0/1 [00:00<?, ?it/s]"
      ]
     },
     "metadata": {},
     "output_type": "display_data"
    }
   ],
   "source": [
    "profile = ProfileReport(authors)#, minimal=True)\n",
    "profile.to_file(path + \"authors_max.html\")\n",
    "\n",
    "profile = ProfileReport(authors[authors.index_authorship > 0], minimal=True)\n",
    "profile.to_file(path + \"authors_with_index.html\")\n",
    "\n",
    "profile = ProfileReport(authors[authors.index_authorship == 0], minimal=True)\n",
    "profile.to_file(path + \"colaborators.html\")"
   ]
  },
  {
   "cell_type": "code",
   "execution_count": 59,
   "id": "2cb8b817",
   "metadata": {},
   "outputs": [
    {
     "data": {
      "application/vnd.jupyter.widget-view+json": {
       "model_id": "e6fce78acd6848a09050b9bef3e014b2",
       "version_major": 2,
       "version_minor": 0
      },
      "text/plain": [
       "Summarize dataset:   0%|          | 0/12 [00:00<?, ?it/s]"
      ]
     },
     "metadata": {},
     "output_type": "display_data"
    },
    {
     "data": {
      "application/vnd.jupyter.widget-view+json": {
       "model_id": "3ae8f50e01f24cafa16ce6f56d0e7f56",
       "version_major": 2,
       "version_minor": 0
      },
      "text/plain": [
       "Generate report structure:   0%|          | 0/1 [00:00<?, ?it/s]"
      ]
     },
     "metadata": {},
     "output_type": "display_data"
    },
    {
     "data": {
      "application/vnd.jupyter.widget-view+json": {
       "model_id": "0f4caff6e732498fb447cd4d99329ce4",
       "version_major": 2,
       "version_minor": 0
      },
      "text/plain": [
       "Render HTML:   0%|          | 0/1 [00:00<?, ?it/s]"
      ]
     },
     "metadata": {},
     "output_type": "display_data"
    },
    {
     "data": {
      "application/vnd.jupyter.widget-view+json": {
       "model_id": "861358dc188e4671908dde4cfb00c1cb",
       "version_major": 2,
       "version_minor": 0
      },
      "text/plain": [
       "Export report to file:   0%|          | 0/1 [00:00<?, ?it/s]"
      ]
     },
     "metadata": {},
     "output_type": "display_data"
    }
   ],
   "source": [
    "unknown_gender_authors\n",
    "\n",
    "profile = ProfileReport(unknown_gender_authors, minimal=True)\n",
    "profile.to_file(path + \"unknown_gender_authors.html\")"
   ]
  }
 ],
 "metadata": {
  "kernelspec": {
   "display_name": "Python 3",
   "language": "python",
   "name": "python3"
  },
  "language_info": {
   "codemirror_mode": {
    "name": "ipython",
    "version": 3
   },
   "file_extension": ".py",
   "mimetype": "text/x-python",
   "name": "python",
   "nbconvert_exporter": "python",
   "pygments_lexer": "ipython3",
   "version": "3.8.8"
  }
 },
 "nbformat": 4,
 "nbformat_minor": 5
}
