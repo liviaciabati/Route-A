{
 "cells": [
  {
   "cell_type": "code",
   "execution_count": 1,
   "id": "9eddda48",
   "metadata": {},
   "outputs": [],
   "source": [
    "import requests\n",
    "import re\n",
    "import pandas as pd\n",
    "import time\n",
    "\n",
    "try: \n",
    "    from BeautifulSoup import BeautifulSoup\n",
    "except ImportError:\n",
    "    from bs4 import BeautifulSoup\n",
    "\n",
    "def striphtml(data):\n",
    "    p = re.compile(r'<.*?>')\n",
    "    return p.sub('', data)"
   ]
  },
  {
   "cell_type": "code",
   "execution_count": 2,
   "id": "2841384c",
   "metadata": {},
   "outputs": [],
   "source": [
    "path = 'C:\\\\Users\\\\livia\\\\Dropbox\\\\HRP Alliance authorship paper\\\\Data 2022-03-26\\\\'"
   ]
  },
  {
   "cell_type": "code",
   "execution_count": 3,
   "id": "95cb6b07",
   "metadata": {},
   "outputs": [
    {
     "data": {
      "text/html": [
       "<div>\n",
       "<style scoped>\n",
       "    .dataframe tbody tr th:only-of-type {\n",
       "        vertical-align: middle;\n",
       "    }\n",
       "\n",
       "    .dataframe tbody tr th {\n",
       "        vertical-align: top;\n",
       "    }\n",
       "\n",
       "    .dataframe thead th {\n",
       "        text-align: right;\n",
       "    }\n",
       "</style>\n",
       "<table border=\"1\" class=\"dataframe\">\n",
       "  <thead>\n",
       "    <tr style=\"text-align: right;\">\n",
       "      <th></th>\n",
       "      <th>name</th>\n",
       "      <th>gender</th>\n",
       "    </tr>\n",
       "  </thead>\n",
       "  <tbody>\n",
       "    <tr>\n",
       "      <th>0</th>\n",
       "      <td>A A Adeniyi</td>\n",
       "      <td>unknown</td>\n",
       "    </tr>\n",
       "    <tr>\n",
       "      <th>1</th>\n",
       "      <td>A A Radionchenko</td>\n",
       "      <td>unknown</td>\n",
       "    </tr>\n",
       "    <tr>\n",
       "      <th>2</th>\n",
       "      <td>A B Ande</td>\n",
       "      <td>unknown</td>\n",
       "    </tr>\n",
       "    <tr>\n",
       "      <th>3</th>\n",
       "      <td>A Balen</td>\n",
       "      <td>unknown</td>\n",
       "    </tr>\n",
       "    <tr>\n",
       "      <th>4</th>\n",
       "      <td>A Bayduysenova</td>\n",
       "      <td>unknown</td>\n",
       "    </tr>\n",
       "    <tr>\n",
       "      <th>...</th>\n",
       "      <td>...</td>\n",
       "      <td>...</td>\n",
       "    </tr>\n",
       "    <tr>\n",
       "      <th>2596</th>\n",
       "      <td>for PregCOV-19 Living Systematic Review Consor...</td>\n",
       "      <td>unknown</td>\n",
       "    </tr>\n",
       "    <tr>\n",
       "      <th>2597</th>\n",
       "      <td>members of the BRANCH steering committee</td>\n",
       "      <td>unknown</td>\n",
       "    </tr>\n",
       "    <tr>\n",
       "      <th>2598</th>\n",
       "      <td>members of the WHO Maternal Morbidity Working ...</td>\n",
       "      <td>unknown</td>\n",
       "    </tr>\n",
       "    <tr>\n",
       "      <th>2599</th>\n",
       "      <td>on behalf the study group</td>\n",
       "      <td>unknown</td>\n",
       "    </tr>\n",
       "    <tr>\n",
       "      <th>2600</th>\n",
       "      <td>study authors</td>\n",
       "      <td>unknown</td>\n",
       "    </tr>\n",
       "  </tbody>\n",
       "</table>\n",
       "<p>2601 rows × 2 columns</p>\n",
       "</div>"
      ],
      "text/plain": [
       "                                                   name   gender\n",
       "0                                           A A Adeniyi  unknown\n",
       "1                                      A A Radionchenko  unknown\n",
       "2                                              A B Ande  unknown\n",
       "3                                               A Balen  unknown\n",
       "4                                        A Bayduysenova  unknown\n",
       "...                                                 ...      ...\n",
       "2596  for PregCOV-19 Living Systematic Review Consor...  unknown\n",
       "2597           members of the BRANCH steering committee  unknown\n",
       "2598  members of the WHO Maternal Morbidity Working ...  unknown\n",
       "2599                          on behalf the study group  unknown\n",
       "2600                                      study authors  unknown\n",
       "\n",
       "[2601 rows x 2 columns]"
      ]
     },
     "execution_count": 3,
     "metadata": {},
     "output_type": "execute_result"
    }
   ],
   "source": [
    "file = 'author_unknown_gender.csv'\n",
    "complete_list_authors = pd.read_csv(path + file)\n",
    "complete_list_authors"
   ]
  },
  {
   "cell_type": "code",
   "execution_count": 4,
   "id": "150e7040",
   "metadata": {},
   "outputs": [],
   "source": [
    "she = []\n",
    "he = []\n",
    "for name in complete_list_authors['name'][:10]:\n",
    "    s = requests.Session()\n",
    "    url = 'https://www.google.com/search?q=%22{}'.format(name + \" he she\")  \n",
    "    try:\n",
    "        response = s.get(url)\n",
    "        time.sleep(10)\n",
    "    except requests.exceptions.ConnectionError:\n",
    "        response = s.get(url)\n",
    "\n",
    "    html = response.text\n",
    "    parsed_html = BeautifulSoup(html)\n",
    "    she += [len(re.findall(' she ', striphtml(parsed_html.find('body').text)))]    \n",
    "    he += [len(re.findall(' he ', striphtml(parsed_html.find('body').text)))]"
   ]
  },
  {
   "cell_type": "code",
   "execution_count": 5,
   "id": "eb168bfb",
   "metadata": {},
   "outputs": [
    {
     "name": "stdout",
     "output_type": "stream",
     "text": [
      "A A Adeniyi\n",
      "A A Radionchenko\n",
      "A B Ande\n",
      "A Balen\n",
      "A Bayduysenova\n",
      "A Bishop\n",
      "A Bourtembourg\n",
      "A Brandrup-lukanow\n",
      "A C Bariweni\n",
      "A C Umezulike\n"
     ]
    }
   ],
   "source": [
    "for name in complete_list_authors['name'][:10]:\n",
    "    print(name)"
   ]
  },
  {
   "cell_type": "code",
   "execution_count": 6,
   "id": "0f551920",
   "metadata": {},
   "outputs": [
    {
     "data": {
      "text/html": [
       "<div>\n",
       "<style scoped>\n",
       "    .dataframe tbody tr th:only-of-type {\n",
       "        vertical-align: middle;\n",
       "    }\n",
       "\n",
       "    .dataframe tbody tr th {\n",
       "        vertical-align: top;\n",
       "    }\n",
       "\n",
       "    .dataframe thead th {\n",
       "        text-align: right;\n",
       "    }\n",
       "</style>\n",
       "<table border=\"1\" class=\"dataframe\">\n",
       "  <thead>\n",
       "    <tr style=\"text-align: right;\">\n",
       "      <th></th>\n",
       "      <th>0</th>\n",
       "      <th>1</th>\n",
       "      <th>2</th>\n",
       "      <th>3</th>\n",
       "      <th>4</th>\n",
       "      <th>5</th>\n",
       "      <th>6</th>\n",
       "      <th>7</th>\n",
       "      <th>8</th>\n",
       "      <th>9</th>\n",
       "    </tr>\n",
       "  </thead>\n",
       "  <tbody>\n",
       "    <tr>\n",
       "      <th>0</th>\n",
       "      <td>0</td>\n",
       "      <td>0</td>\n",
       "      <td>0</td>\n",
       "      <td>0</td>\n",
       "      <td>0</td>\n",
       "      <td>0</td>\n",
       "      <td>0</td>\n",
       "      <td>0</td>\n",
       "      <td>0</td>\n",
       "      <td>0</td>\n",
       "    </tr>\n",
       "    <tr>\n",
       "      <th>1</th>\n",
       "      <td>0</td>\n",
       "      <td>0</td>\n",
       "      <td>0</td>\n",
       "      <td>0</td>\n",
       "      <td>0</td>\n",
       "      <td>0</td>\n",
       "      <td>0</td>\n",
       "      <td>0</td>\n",
       "      <td>0</td>\n",
       "      <td>0</td>\n",
       "    </tr>\n",
       "  </tbody>\n",
       "</table>\n",
       "</div>"
      ],
      "text/plain": [
       "   0  1  2  3  4  5  6  7  8  9\n",
       "0  0  0  0  0  0  0  0  0  0  0\n",
       "1  0  0  0  0  0  0  0  0  0  0"
      ]
     },
     "execution_count": 6,
     "metadata": {},
     "output_type": "execute_result"
    }
   ],
   "source": [
    "pd.DataFrame([she, he])"
   ]
  },
  {
   "cell_type": "code",
   "execution_count": 5,
   "id": "e228cb1d",
   "metadata": {},
   "outputs": [
    {
     "data": {
      "text/plain": [
       "<html><head>\n",
       "<title>Access Denied</title>\n",
       "</head><body>\n",
       "<h1>Access Denied</h1>\n",
       " \n",
       "You don't have permission to access \"http://www.webofscience.com/wos/woscc/full-record/WOS:000560593300008\" on this server.<p>\n",
       "Reference #18.48d3cf17.1650122501.dfe46578\n",
       "</p></body>\n",
       "</html>"
      ]
     },
     "execution_count": 5,
     "metadata": {},
     "output_type": "execute_result"
    }
   ],
   "source": [
    "s = requests.Session()\n",
    "url = 'https://www.webofscience.com/wos/woscc/full-record/WOS:000560593300008'\n",
    "try:\n",
    "    response = s.get(url)\n",
    "    time.sleep(10)\n",
    "except requests.exceptions.ConnectionError:\n",
    "    response = s.get(url)\n",
    "\n",
    "html = response.text\n",
    "parsed_html = BeautifulSoup(html)\n",
    "parsed_html"
   ]
  },
  {
   "cell_type": "code",
   "execution_count": null,
   "id": "f4d00dbe",
   "metadata": {},
   "outputs": [],
   "source": []
  }
 ],
 "metadata": {
  "kernelspec": {
   "display_name": "Python 3",
   "language": "python",
   "name": "python3"
  },
  "language_info": {
   "codemirror_mode": {
    "name": "ipython",
    "version": 3
   },
   "file_extension": ".py",
   "mimetype": "text/x-python",
   "name": "python",
   "nbconvert_exporter": "python",
   "pygments_lexer": "ipython3",
   "version": "3.8.8"
  }
 },
 "nbformat": 4,
 "nbformat_minor": 5
}
