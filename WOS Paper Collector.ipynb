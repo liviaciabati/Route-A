{
 "cells": [
  {
   "cell_type": "code",
   "execution_count": 2,
   "id": "2fc5585e",
   "metadata": {},
   "outputs": [],
   "source": [
    "from __future__ import print_function\n",
    "import time\n",
    "import woslite_client\n",
    "from woslite_client.rest import ApiException\n",
    "from pprint import pprint"
   ]
  },
  {
   "cell_type": "code",
   "execution_count": 5,
   "id": "a88464c3",
   "metadata": {},
   "outputs": [
    {
     "name": "stdout",
     "output_type": "stream",
     "text": [
      "Exception when calling IntegrationApi->id_unique_id_get: (401)\n",
      "Reason: Unauthorized\n",
      "HTTP response headers: HTTPHeaderDict({'Date': 'Sat, 16 Apr 2022 16:34:40 GMT', 'Content-Type': 'application/json; charset=utf-8', 'Content-Length': '48', 'Connection': 'keep-alive', 'X-Kong-Response-Latency': '13', 'Server': 'kong/1.5.1'})\n",
      "HTTP response body: {\"message\":\"Invalid authentication credentials\"}\n",
      "\\n\n",
      "Exception when calling SearchApi->root_get: (401)\n",
      "Reason: Unauthorized\n",
      "HTTP response headers: HTTPHeaderDict({'Date': 'Sat, 16 Apr 2022 16:34:41 GMT', 'Content-Type': 'application/json; charset=utf-8', 'Content-Length': '48', 'Connection': 'keep-alive', 'X-Kong-Response-Latency': '7', 'Server': 'kong/1.5.1'})\n",
      "HTTP response body: {\"message\":\"Invalid authentication credentials\"}\n",
      "\\n\n"
     ]
    }
   ],
   "source": [
    "# Configure API key authorization: key\n",
    "configuration = woslite_client.Configuration()\n",
    "configuration.api_key['X-ApiKey'] = 'ff754066-d5b7-475f-b3b7-5d8f651b3bb4'\n",
    "\n",
    "# create an instance of the API class\n",
    "integration_api_instance = woslite_client.IntegrationApi(woslite_client.ApiClient(configuration))\n",
    "search_api_instance = woslite_client.SearchApi(woslite_client.ApiClient(configuration))\n",
    "database_id = 'WOS'  # str | Database to search. Must be a valid database ID, one of the following: BCI/BIOABS/BIOSIS/CCC/DCI/DIIDW/MEDLINE/WOK/WOS/ZOOREC. WOK represents all databases.\n",
    "unique_id = 'WOS:000270372400005'  # str | Primary item(s) id to be searched, ex: WOS:000270372400005. Cannot be null or an empty string. Multiple values are separated by comma.\n",
    "usr_query = 'TS=(cadmium)'  # str | User query for requesting data, ex: TS=(cadmium). The query parser will return errors for invalid queries.\n",
    "count = 1  # int | Number of records returned in the request\n",
    "first_record = 1  # int | Specific record, if any within the result set to return. Cannot be less than 1 and greater than 100000.\n",
    "lang = 'en'  # str | Language of search. This element can take only one value: en for English. If no language is specified, English is passed by default. (optional)\n",
    "sort_field = 'PY+D'  # str | Order by field(s). Field name and order by clause separated by '+', use A for ASC and D for DESC, ex: PY+D. Multiple values are separated by comma. (optional)\n",
    "\n",
    "try:\n",
    "    # Find record(s) by specific id\n",
    "    api_response = integration_api_instance.id_unique_id_get(database_id, unique_id, count, first_record, lang=lang,\n",
    "                                                             sort_field=sort_field)\n",
    "    # for more details look at the models\n",
    "    firstAuthor = api_response.data[0].author.authors[0]\n",
    "    print(\"Response: \")\n",
    "    pprint(api_response)\n",
    "    pprint(\"First author: \" + firstAuthor)\n",
    "except ApiException as e:\n",
    "    print(\"Exception when calling IntegrationApi->id_unique_id_get: %s\\\\n\" % e)\n",
    "\n",
    "try:\n",
    "    # Find record(s) by user query\n",
    "    api_response = search_api_instance.root_get(database_id, usr_query, count, first_record, lang=lang,\n",
    "                                                             sort_field=sort_field)\n",
    "    # for more details look at the models\n",
    "    firstAuthor = api_response.data[0].author.authors[0]\n",
    "    print(\"Response: \")\n",
    "    pprint(api_response)\n",
    "    pprint(\"First author: \" + firstAuthor)\n",
    "except ApiException as e:\n",
    "    print(\"Exception when calling SearchApi->root_get: %s\\\\n\" % e)"
   ]
  }
 ],
 "metadata": {
  "kernelspec": {
   "display_name": "Python 3",
   "language": "python",
   "name": "python3"
  },
  "language_info": {
   "codemirror_mode": {
    "name": "ipython",
    "version": 3
   },
   "file_extension": ".py",
   "mimetype": "text/x-python",
   "name": "python",
   "nbconvert_exporter": "python",
   "pygments_lexer": "ipython3",
   "version": "3.8.8"
  }
 },
 "nbformat": 4,
 "nbformat_minor": 5
}
