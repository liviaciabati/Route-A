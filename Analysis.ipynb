{
 "cells": [
  {
   "cell_type": "code",
   "execution_count": 3,
   "id": "39e6978f",
   "metadata": {},
   "outputs": [],
   "source": [
    "import pandas as pd\n",
    "from pandas_profiling import ProfileReport"
   ]
  },
  {
   "cell_type": "code",
   "execution_count": 8,
   "id": "0fc43bf0",
   "metadata": {},
   "outputs": [
    {
     "data": {
      "application/vnd.jupyter.widget-view+json": {
       "model_id": "faccc40635e644cdbe3d3cd24f6bb46c",
       "version_major": 2,
       "version_minor": 0
      },
      "text/plain": [
       "Summarize dataset:   0%|          | 0/38 [00:00<?, ?it/s]"
      ]
     },
     "metadata": {},
     "output_type": "display_data"
    },
    {
     "data": {
      "application/vnd.jupyter.widget-view+json": {
       "model_id": "1886b95d2ef94d3584245625d594f3df",
       "version_major": 2,
       "version_minor": 0
      },
      "text/plain": [
       "Generate report structure:   0%|          | 0/1 [00:00<?, ?it/s]"
      ]
     },
     "metadata": {},
     "output_type": "display_data"
    },
    {
     "data": {
      "application/vnd.jupyter.widget-view+json": {
       "model_id": "14a44831139742a9b94ca61d292895eb",
       "version_major": 2,
       "version_minor": 0
      },
      "text/plain": [
       "Render HTML:   0%|          | 0/1 [00:00<?, ?it/s]"
      ]
     },
     "metadata": {},
     "output_type": "display_data"
    },
    {
     "data": {
      "application/vnd.jupyter.widget-view+json": {
       "model_id": "bb1163f389c64951bcb237927048d574",
       "version_major": 2,
       "version_minor": 0
      },
      "text/plain": [
       "Export report to file:   0%|          | 0/1 [00:00<?, ?it/s]"
      ]
     },
     "metadata": {},
     "output_type": "display_data"
    }
   ],
   "source": [
    "path = 'C:\\\\Users\\\\livia\\\\Dropbox\\\\HRP Alliance authorship paper\\\\Data 2022-03-23\\\\'\n",
    "papers = pd.read_csv(path + 'artigos_HRP.csv')\n",
    "papers.columns\n",
    "\n",
    "profile = ProfileReport(papers)#, minimal=True)\n",
    "profile.to_file(path + \"output_artigos.html\")"
   ]
  },
  {
   "cell_type": "code",
   "execution_count": 6,
   "id": "c61a2e80",
   "metadata": {},
   "outputs": [
    {
     "name": "stdout",
     "output_type": "stream",
     "text": [
      "Num columns:  25\n",
      "Num rows:  1419\n"
     ]
    }
   ],
   "source": [
    "print(\"Num columns: \", len(papers.columns))\n",
    "print(\"Num rows: \", len(papers))"
   ]
  },
  {
   "cell_type": "code",
   "execution_count": 26,
   "id": "f3cddb8e",
   "metadata": {},
   "outputs": [
    {
     "name": "stdout",
     "output_type": "stream",
     "text": [
      "PMID \n",
      " 24641536    1\n",
      "29526165    1\n",
      "28491127    1\n",
      "26547301    1\n",
      "9805722     1\n",
      "           ..\n",
      "31822545    1\n",
      "14723792    1\n",
      "27542732    1\n",
      "33268430    1\n",
      "28838086    1\n",
      "Name: PMID, Length: 1199, dtype: int64 \n",
      "\n",
      "\n",
      "pmid \n",
      " Series([], Name: pmid, dtype: int64) \n",
      "\n",
      "\n",
      "title \n",
      " Prostaglandins for prevention of postpartum haemorrhage                                                                      3\n",
      "Contraceptive use, fertility, and unsafe abortion in developing countries                                                    2\n",
      "Maternal nutrient supplementation for suspected impaired fetal growth                                                        2\n",
      "Interventions for trichomoniasis in pregnancy                                                                                2\n",
      "Progestogen-only contraceptive use among breastfeeding women: a systematic review                                            2\n",
      "                                                                                                                            ..\n",
      "Behavioural and demographic correlates of undiagnosed HIV infection in a MSM sample recruited in 13 European cities          1\n",
      "DECIDE: a cluster-randomized controlled trial to reduce unnecessary caesarean deliveries in Burkina Faso                     1\n",
      "Diagnostic accuracy of the partograph alert and action lines to predict adverse birth outcomes: a systematic review          1\n",
      "Combined oral contraceptive use among breastfeeding women: a systematic review                                               1\n",
      "Forward, Together: A Collaborative Path to Comprehensive Adolescent Sexual and Reproductive Health and Rights in Our Time    1\n",
      "Name: title, Length: 1184, dtype: int64 \n",
      "\n",
      "\n",
      "authors_list \n",
      " A M Gülmezoglu, G J Hofmeyr                                                                                                                                                                                                                                                                                                9\n",
      "P D Griffin                                                                                                                                                                                                                                                                                                                4\n",
      "M F Fathalla                                                                                                                                                                                                                                                                                                               4\n",
      "Nathalie Kapp, Kathryn M Curtis                                                                                                                                                                                                                                                                                            3\n",
      "E M Belsey                                                                                                                                                                                                                                                                                                                 3\n",
      "                                                                                                                                                                                                                                                                                                                          ..\n",
      "Jeffrey D Klausner, Nathalie Broutet                                                                                                                                                                                                                                                                                       1\n",
      "Garrett Livingston Mehl, Tigest Tamrat, Sanjana Bhardwaj, Sean Blaschke, Alain Labrique                                                                                                                                                                                                                                    1\n",
      "Christopher L R Barratt, Lars Björndahl, Christopher J De Jonge, Dolores J Lamb, Francisco Osorio Martini, Robert McLachlan, Robert D Oates, Sheryl van der Poel, Bianca St John, Mark Sigman, Rebecca Sokol, Herman Tournaye                                                                                              1\n",
      "Ana P Betrán, A Metin Gulmezoglu, Michael Robson, Mario Merialdi, João P Souza, Daniel Wojdyla, Mariana Widmer, Guillermo Carroli, Maria R Torloni, Ana Langer, Alberto Narváez, Alejandro Velasco, Anibal Faúndes, Arnaldo Acosta, Eliette Valladares, Mariana Romero, Nelly Zavaleta, Sofia Reynoso, Vicente Bataglia    1\n",
      "Mai Fujii, Ryu Matsuoka, Eduardo Bergel, Sheryl van der Poel, Takashi Okai                                                                                                                                                                                                                                                 1\n",
      "Name: authors_list, Length: 1140, dtype: int64 \n",
      "\n",
      "\n",
      "citation \n",
      " Vogel JP, Osoti AO, Kelly AJ, Livio S, Norman JE, Alfirevic Z. Pharmacological and mechanical interventions for labour induction in outpatient settings. Cochrane Database Syst Rev. 2017;9(9):CD007701. Published 2017 Sep 13. doi:10.1002/14651858.CD007701.pub3                                                           1\n",
      "Barreix M, Barbour K, McCaw-Binns A, et al. Standardizing the measurement of maternal morbidity: Pilot study results. Int J Gynaecol Obstet. 2018;141 Suppl 1(Suppl Suppl 1):10-19. doi:10.1002/ijgo.12464                                                                                                                   1\n",
      "Tang K, Gaoshan J, Ahonsi B, et al. Sexual and reproductive health (SRH): a key issue in the emergency response to the coronavirus disease (COVID- 19) outbreak [published correction appears in Reprod Health. 2020 May 26;17(1):76]. Reprod Health. 2020;17(1):59. Published 2020 Apr 23. doi:10.1186/s12978-020-0900-9    1\n",
      "Polus S, Lewin S, Glenton C, Lerberg PM, Rehfuess E, Gülmezoglu AM. Optimizing the delivery of contraceptives in low- and middle-income countries through task shifting: a systematic review of effectiveness and safety. Reprod Health. 2015;12:27. Published 2015 Apr 1. doi:10.1186/s12978-015-0002-2                     1\n",
      "Ringheim K. Factors that determine prevalence of use of contraceptive methods for men. Stud Fam Plann. 1993;24(2):87-99.                                                                                                                                                                                                     1\n",
      "                                                                                                                                                                                                                                                                                                                            ..\n",
      "Sherriff NS, Jones AM, Mirandola M, et al. Factors related to condomless anal intercourse between men who have sex with men: results from a European bio-behavioural survey. J Public Health (Oxf). 2020;42(2):e174-e186. doi:10.1093/pubmed/fdz052                                                                          1\n",
      "Kartoglu U, Widmer M, Gulmezoglu M. Stability of oxytocin along the supply chain: A WHO observational study. Biologicals. 2017;50:117-124. doi:10.1016/j.biologicals.2017.05.004                                                                                                                                             1\n",
      "Liljestrand J. Reducing perinatal and maternal mortality in the world: the major challenges. Br J Obstet Gynaecol. 1999;106(9):877-880. doi:10.1111/j.1471-0528.1999.tb08423.x                                                                                                                                               1\n",
      "Qureshi Z, Jamner A, Filippi V, et al. Level and determinants of contraceptive uptake among women attending facilities with abortion-related complications in East and Southern Africa. Int J Gynaecol Obstet. 2022;156 Suppl 1:27-35. doi:10.1002/ijgo.13898                                                                1\n",
      "Deperthes BD, Meheus A, O'Reilly K, Broutet N. Maternal and congenital syphilis programmes: case studies in Bolivia, Kenya and South Africa. Bull World Health Organ. 2004;82(6):410-416.                                                                                                                                    1\n",
      "Name: citation, Length: 1199, dtype: int64 \n",
      "\n",
      "\n",
      "journal_book \n",
      " Reproductive health                                                                                                                      119\n",
      "International journal of gynaecology and obstetrics: the official organ of the International Federation of Gynaecology and Obstetrics     83\n",
      "BJOG : an international journal of obstetrics and gynaecology                                                                             75\n",
      "Contraception                                                                                                                             73\n",
      "PloS one                                                                                                                                  65\n",
      "                                                                                                                                        ... \n",
      "Journal of women's health (2002)                                                                                                           1\n",
      "SSM - population health                                                                                                                    1\n",
      "Asian journal of andrology                                                                                                                 1\n",
      "Annals of epidemiology                                                                                                                     1\n",
      "Infectious Disease Modelling                                                                                                               1\n",
      "Name: journal_book, Length: 195, dtype: int64 \n",
      "\n",
      "\n",
      "publication_year \n",
      " 2017    149\n",
      "2019    139\n",
      "2018    135\n",
      "2016    130\n",
      "2020    118\n",
      "2021    110\n",
      "2015     86\n",
      "2014     53\n",
      "2013     32\n",
      "2009     23\n",
      "2000     20\n",
      "2022     19\n",
      "2003     17\n",
      "2010     17\n",
      "2011     16\n",
      "2001     14\n",
      "2012     14\n",
      "2006     14\n",
      "1998     11\n",
      "2005     10\n",
      "2004     10\n",
      "2007      8\n",
      "1988      7\n",
      "1991      7\n",
      "1999      6\n",
      "1997      6\n",
      "2002      5\n",
      "1993      5\n",
      "2008      3\n",
      "1996      3\n",
      "1995      3\n",
      "1994      3\n",
      "1992      3\n",
      "1987      2\n",
      "1989      1\n",
      "Name: publication_year, dtype: int64 \n",
      "\n",
      "\n",
      "create_date \n",
      " Series([], Name: create_date, dtype: int64) \n",
      "\n",
      "\n",
      "pmcid \n",
      " PMC6797402    1\n",
      "PMC7720506    1\n",
      "PMC5356417    1\n",
      "PMC8830715    1\n",
      "PMC8684588    1\n",
      "             ..\n",
      "PMC5791045    1\n",
      "PMC5441029    1\n",
      "PMC8405182    1\n",
      "PMC5568703    1\n",
      "PMC8438768    1\n",
      "Name: pmcid, Length: 695, dtype: int64 \n",
      "\n",
      "\n",
      "nih_ms \n",
      " Series([], Name: nih_ms, dtype: int64) \n",
      "\n",
      "\n",
      "doi \n",
      " 10.1002/14651858.CD000109           2\n",
      "10.1002/14651858.CD000036           2\n",
      "10.1002/14651858.CD000148           2\n",
      "10.1002/14651858.CD000934           2\n",
      "10.1002/14651858.CD000137           2\n",
      "                                   ..\n",
      "10.1136/bmjopen-2021-053419         1\n",
      "10.1016/S0140-6736(15)00954-X       1\n",
      "10.1016/j.jadohealth.2016.03.023    1\n",
      "10.1053/beog.2002.0271              1\n",
      "10.1016/S0968-8080(12)39598-0       1\n",
      "Name: doi, Length: 1173, dtype: int64 \n",
      "\n",
      "\n",
      "publication_type \n",
      " Research Support, Non-U.S. Gov't                                                                                                          147\n",
      "Review                                                                                                                                    100\n",
      "Review,Systematic Review                                                                                                                   71\n",
      "Editorial                                                                                                                                  34\n",
      "Research Support, Non-U.S. Gov't,Review                                                                                                    33\n",
      "                                                                                                                                         ... \n",
      "Case Reports,Research Support, Non-U.S. Gov't                                                                                               1\n",
      "Comparative Study,Multicenter Study,Randomized Controlled Trial,Research Support, U.S. Gov't, Non-P.H.S.                                    1\n",
      "Randomized Controlled Trial,Research Support, N.I.H., Extramural,Research Support, Non-U.S. Gov't,Research Support, U.S. Gov't, P.H.S.      1\n",
      "Clinical Study                                                                                                                              1\n",
      "Evaluation Study,Research Support, Non-U.S. Gov't,Research Support, U.S. Gov't, P.H.S.                                                      1\n",
      "Name: publication_type, Length: 120, dtype: int64 \n",
      "\n",
      "\n",
      "hrp_thematic_area \n",
      " Series([], Name: hrp_thematic_area, dtype: int64) \n",
      "\n",
      "\n",
      "type_support \n",
      " Series([], Name: type_support, dtype: int64) \n",
      "\n",
      "\n",
      "first_author \n",
      " A Metin Gülmezoglu           33\n",
      "Joshua P Vogel               20\n",
      "Moazzam Ali                  18\n",
      "Venkatraman Chandra-Mouli    15\n",
      "J Villar                     14\n",
      "                             ..\n",
      "A N Adamu                     1\n",
      "Magnus Yap                    1\n",
      "Craig L Lissner               1\n",
      "Mags Beksinska                1\n",
      "Eduardo Bergel                1\n",
      "Name: first_author, Length: 681, dtype: int64 \n",
      "\n",
      "\n",
      "fa_country \n",
      " Series([], Name: fa_country, dtype: int64) \n",
      "\n",
      "\n",
      "fa_gender \n",
      " female           513\n",
      "unknown          332\n",
      "male             300\n",
      "mostly_female     22\n",
      "mostly_male       16\n",
      "andy              16\n",
      "Name: fa_gender, dtype: int64 \n",
      "\n",
      "\n",
      "fa_is_hub \n",
      " Series([], Name: fa_is_hub, dtype: int64) \n",
      "\n",
      "\n",
      "fa_is_stafflast_author \n",
      " Series([], Name: fa_is_stafflast_author, dtype: int64) \n",
      "\n",
      "\n",
      "la_country \n",
      " Series([], Name: la_country, dtype: int64) \n",
      "\n",
      "\n",
      "la_gender \n",
      " female           463\n",
      "unknown          432\n",
      "male             244\n",
      "mostly_female     25\n",
      "mostly_male       22\n",
      "andy              13\n",
      "Name: la_gender, dtype: int64 \n",
      "\n",
      "\n",
      "la_is_hub \n",
      " Series([], Name: la_is_hub, dtype: int64) \n",
      "\n",
      "\n",
      "la_is_staff \n",
      " Series([], Name: la_is_staff, dtype: int64) \n",
      "\n",
      "\n",
      "is_systematic_review \n",
      " 0    969\n",
      "1    230\n",
      "Name: is_systematic_review, dtype: int64 \n",
      "\n",
      "\n",
      "last_author \n",
      " A Metin Gülmezoglu     36\n",
      "Marleen Temmerman      29\n",
      "Özge Tunçalp           24\n",
      "Lale Say               23\n",
      "Olufemi T Oladapo      21\n",
      "                       ..\n",
      "Lawrence D Platt        1\n",
      "Subidita Chatteriee     1\n",
      "Vicki J Flenady         1\n",
      "Tim Farley              1\n",
      "Oona M R Campbell       1\n"
     ]
    },
    {
     "name": "stdout",
     "output_type": "stream",
     "text": [
      "Name: last_author, Length: 623, dtype: int64 \n",
      "\n",
      "\n"
     ]
    }
   ],
   "source": [
    "for column in papers.columns:\n",
    "    print(column, \"\\n\", papers[column].value_counts(), \"\\n\\n\")"
   ]
  },
  {
   "cell_type": "code",
   "execution_count": 28,
   "id": "9e6a5a79",
   "metadata": {},
   "outputs": [
    {
     "data": {
      "text/plain": [
       "3          Janesh K Gupta\n",
       "5                M Endler\n",
       "10           Rajat Khosla\n",
       "11             A P Betran\n",
       "17      Junice L D Melgar\n",
       "              ...        \n",
       "1167         N S Sherriff\n",
       "1185     J Frederik Frøen\n",
       "1186          G J Hofmeyr\n",
       "1187            M L Giles\n",
       "1192      Eneyi E Kpokiri\n",
       "Name: first_author, Length: 332, dtype: object"
      ]
     },
     "execution_count": 28,
     "metadata": {},
     "output_type": "execute_result"
    }
   ],
   "source": [
    "papers[papers.fa_gender == 'unknown'].first_author"
   ]
  },
  {
   "cell_type": "code",
   "execution_count": 27,
   "id": "2564e1c8",
   "metadata": {},
   "outputs": [
    {
     "data": {
      "text/plain": [
       "J Villar               14\n",
       "Manjulaa Narasimhan    10\n",
       "Olufemi T Oladapo       7\n",
       "E M Belsey              6\n",
       "E R Allanson            5\n",
       "                       ..\n",
       "Rhoune Ochako           1\n",
       "C AbouZahr              1\n",
       "C R Kim                 1\n",
       "Junice L D Melgar       1\n",
       "Charifa Zemouri         1\n",
       "Name: first_author, Length: 208, dtype: int64"
      ]
     },
     "execution_count": 27,
     "metadata": {},
     "output_type": "execute_result"
    }
   ],
   "source": [
    "papers[papers.fa_gender == 'unknown'].first_author.value_counts()"
   ]
  }
 ],
 "metadata": {
  "kernelspec": {
   "display_name": "Python 3",
   "language": "python",
   "name": "python3"
  },
  "language_info": {
   "codemirror_mode": {
    "name": "ipython",
    "version": 3
   },
   "file_extension": ".py",
   "mimetype": "text/x-python",
   "name": "python",
   "nbconvert_exporter": "python",
   "pygments_lexer": "ipython3",
   "version": "3.8.8"
  }
 },
 "nbformat": 4,
 "nbformat_minor": 5
}
