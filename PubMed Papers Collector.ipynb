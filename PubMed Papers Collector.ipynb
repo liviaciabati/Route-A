{
 "cells": [
  {
   "cell_type": "code",
   "execution_count": 1,
   "id": "f1b326c5",
   "metadata": {},
   "outputs": [],
   "source": [
    "import csv\n",
    "import json\n",
    "import time\n",
    "from os import makedirs\n",
    "from os.path import exists, join\n",
    "import pandas as pd\n",
    "import numpy as np\n",
    "\n",
    "import gender_guesser.detector as gender\n",
    "d = gender.Detector()\n",
    "\n",
    "import requests\n",
    "import re\n",
    "\n",
    "from pandas_profiling import ProfileReport\n",
    "\n",
    "try: \n",
    "    from BeautifulSoup import BeautifulSoup\n",
    "except ImportError:\n",
    "    from bs4 import BeautifulSoup"
   ]
  },
  {
   "cell_type": "code",
   "execution_count": 2,
   "id": "e9a2c3d0",
   "metadata": {},
   "outputs": [],
   "source": [
    "path = 'C:\\\\Users\\\\livia\\\\Dropbox\\\\HRP Alliance authorship paper\\\\Data 2022-04-14\\\\'\n",
    "\n",
    "\n",
    "def get_title(parsed_html):\n",
    "    return  parsed_html.find(attrs= {'class': 'heading-title'}).get_text().strip() if parsed_html.find(attrs= {'class': 'heading-title'}) else \"\"\n",
    "\n",
    "def get_authors_list(parsed_html):\n",
    "    list_authors = pd.DataFrame(columns=['full_name', 'affiliation', 'index_authorship', 'pmid'])\n",
    "    \n",
    "    if parsed_html.find(attrs={'id': 'full-view-heading'}):\n",
    "        authors = parsed_html.find(attrs={'id': 'full-view-heading'}).find_all('span', attrs={'class': 'authors-list-item'})  \n",
    "        list_authors = pd.DataFrame(columns=['full_name', 'affiliation', 'index_authorship', 'pmid'], index=np.arange(len(authors)))\n",
    "        pmid = parsed_html.find('strong', attrs={'class': 'current-id'}).text.strip()  \n",
    "\n",
    "        i = 0\n",
    "        for author in authors:\n",
    "            list_authors.iloc[i]['full_name'] = author.find(attrs={'class': 'full-name'}).text        \n",
    "            list_authors.iloc[i]['index_authorship'] = i + 1\n",
    "            list_authors.iloc[i]['pmid'] = pmid\n",
    "\n",
    "            affiliations = author.find_all(attrs={'class': 'affiliation-link'})\n",
    "            list_authors.iloc[i]['affiliation'] = []\n",
    "            for affiliation in affiliations:\n",
    "                list_authors.iloc[i]['affiliation'] += [affiliation['title']]\n",
    "            i +=1\n",
    "    else:        \n",
    "        print(parsed_html.find(attrs={'id': 'full-view-heading'}))\n",
    "\n",
    "    return list_authors\n",
    "\n",
    "def get_last_author_before_instituion(list_authors):\n",
    "    some_list = ['World Health Organization', 'WHO', 'Research', 'Reproductive', 'Study', 'Health', 'GROUP', 'NETWORK',\n",
    "                'Consortium', 'committee', 'all the authors', 'for IeDEA-Southern Africa', 'Systematic', \n",
    "                 'collaborations', 'Organizacion', 'College', 'Consortium', 'Association', 'Survey', 'Expert',\n",
    "                'de la Salud', 'Control']\n",
    "    last_author = list_authors.iloc[len(list_authors)-1] if len(list_authors) > 0 else \"\"\n",
    "    if any(s.upper() in last_author.upper() for s in some_list):\n",
    "        return list_authors.iloc[len(list_authors)-2]\n",
    "    return last_author\n",
    "\n",
    "def get_citation(pmid):\n",
    "    s = requests.Session()\n",
    "    url = 'https://pubmed.ncbi.nlm.nih.gov/{}/citations/'.format(pmid)  \n",
    "    try:\n",
    "        response = s.get(url)\n",
    "    except requests.exceptions.ConnectionError:\n",
    "        time.sleep(60)\n",
    "        response = s.get(url)\n",
    "    return json.loads(response.text)['ama']['orig']\n",
    "\n",
    "\n",
    "def get_journal_book(parsed_html):\n",
    "    return parsed_html.find(attrs= {'id': 'full-view-journal-trigger'})['title'].strip() if parsed_html.find(attrs= {'id': 'full-view-journal-trigger'}) else \"\"\n",
    "\n",
    "def get_publication_year(parsed_html):\n",
    "    #pub_date = parsed_html.find('meta',attrs= {'name': 'citation_date'})['content']\n",
    "    return re.search('[0-9]{4}',parsed_html.find('meta',attrs= {'name': 'citation_date'})['content']).group(0)\n",
    "\n",
    "def get_doi(parsed_html):\n",
    "    return parsed_html.find('meta',attrs= {'name': 'citation_doi'})['content']\n",
    "\n",
    "def get_pmc_id(parsed_html):\n",
    "    if parsed_html.find('span', attrs={'class': 'identifier pmc'}) and parsed_html.find('span', attrs={'class': 'identifier pmc'}).find('a'):\n",
    "        return parsed_html.find('span', attrs={'class': 'identifier pmc'}).find('a').text.strip()\n",
    "    else:\n",
    "        return ''\n",
    "\n",
    "def gess_gender_author(name):\n",
    "    first_name = name.split(' ')[0]\n",
    "    return d.get_gender(first_name)\n",
    "\n",
    "def pub_type(parsed_html):\n",
    "    pub_types = parsed_html.find_all('a',attrs= {'data-ga-action': 'pub_type_link'})\n",
    "    list_pub_types = []\n",
    "    for pub_type in pub_types:\n",
    "        list_pub_types += [pub_type['data-ga-label']]\n",
    "    return list_pub_types\n",
    "\n",
    "def is_systematic_review(list_pub_types):\n",
    "    return 1 if 'Systematic Review' in list_pub_types else 0\n",
    "\n",
    "\n",
    "def get_parsed_html_from_pmid(PMID):\n",
    "    s = requests.Session()\n",
    "    url = 'https://pubmed.ncbi.nlm.nih.gov/{}/'.format(PMID)\n",
    "    try:\n",
    "        response = s.get(url)\n",
    "    except requests.exceptions.ConnectionError:\n",
    "        time.sleep(60)\n",
    "        response = s.get(url)\n",
    "        \n",
    "    html = response.text\n",
    "    parsed_html = BeautifulSoup(html)\n",
    "    if parsed_html.find(attrs= {'class': 'usa-grid error-page'}): #.find('h2').text.strip() == 'Server error':\n",
    "        print(url)\n",
    "        return False\n",
    "    return parsed_html\n"
   ]
  },
  {
   "cell_type": "code",
   "execution_count": 4,
   "id": "6c3c43a8",
   "metadata": {},
   "outputs": [],
   "source": [
    "#Link to open access publication \"Type of publication:  Systematic review=1; Scientific paper=2\"\t\n",
    "#HRP thematic area \"Type of support: Direct support=1; Indirect support=2\"\t\n",
    "\n",
    "pmid_list = pd.read_csv(path + 'pmid_list_v3.txt')\n",
    "columns = ['pmid', 'title', 'authors_list', 'citation', 'journal_book', 'publication_year', 'create_date', \n",
    "           'pmcid', 'nih_ms', 'doi', 'publication_type', 'hrp_thematic_area', 'type_support',\n",
    "           'first_author', 'fa_country', 'fa_gender', 'fa_is_hub', 'fa_is_staff'\n",
    "           'last_author',  'la_country', 'la_gender', 'la_is_hub', 'la_is_staff']\n",
    "database = pd.DataFrame(columns = columns, index = pmid_list['PMID'])\n",
    "\n"
   ]
  },
  {
   "cell_type": "code",
   "execution_count": 5,
   "id": "37a8af5d",
   "metadata": {},
   "outputs": [
    {
     "name": "stdout",
     "output_type": "stream",
     "text": [
      "https://pubmed.ncbi.nlm.nih.gov/34594989/\n"
     ]
    }
   ],
   "source": [
    "complete_list_authors = None\n",
    "for pmid in pmid_list['PMID']:\n",
    "    parsed_html = get_parsed_html_from_pmid(pmid)\n",
    "    \n",
    "    if parsed_html:\n",
    "        list_authors = get_authors_list(parsed_html)\n",
    "        if complete_list_authors is []:\n",
    "            complete_list_authors = list_authors\n",
    "        else:\n",
    "            complete_list_authors = pd.concat([complete_list_authors, list_authors])        \n",
    "            \n",
    "        list_authors = list_authors['full_name']\n",
    "\n",
    "        database.loc[pmid, 'title'] = get_title(parsed_html)\n",
    "        database.loc[pmid, 'authors_list'] = \", \".join(list_authors)\n",
    "        database.loc[pmid, 'citation'] = get_citation(pmid)\n",
    "        database.loc[pmid, 'journal_book'] = get_journal_book(parsed_html)\n",
    "        database.loc[pmid, 'publication_year'] = get_publication_year(parsed_html)\n",
    "        #database.loc[pmid, 'create_date'] = \n",
    "        database.loc[pmid, 'pmcid'] = get_pmc_id(parsed_html)\n",
    "        #database.loc[pmid, 'nih_ms'] = \n",
    "        database.loc[pmid, 'doi'] = get_doi(parsed_html)\n",
    "        database.loc[pmid, 'publication_type'] = \",\".join(pub_type(parsed_html))\n",
    "        database.loc[pmid, 'is_systematic_review'] = is_systematic_review(database.loc[pmid, 'publication_type'])\n",
    "        #database.loc[pmid, 'hrp_thematic_area'] = \n",
    "        #database.loc[pmid, 'type_support'] = \n",
    "        database.loc[pmid, 'first_author'] = list_authors.iloc[0] if len(list_authors) > 0 else \"\"\n",
    "        #database.loc[pmid, 'fa_country'] = \n",
    "        database.loc[pmid, 'fa_gender'] = gess_gender_author(database.loc[pmid, 'first_author'])\n",
    "        #database.loc[pmid, 'fa_is_hub'] = \n",
    "        #database.loc[pmid, 'fa_is_staff'] = \n",
    "        database.loc[pmid, 'last_author'] = get_last_author_before_instituion(list_authors)\n",
    "        #database.loc[pmid, 'la_country'] = \n",
    "        database.loc[pmid, 'la_gender', ] = gess_gender_author(database.loc[pmid, 'last_author']) \n",
    "        #database.loc[pmid, 'la_is_hub'] = \n",
    "        #database.loc[pmid, 'la_is_staff'] = \n",
    "        #database.loc[pmid, 'key_words'] = \n",
    "    else:\n",
    "        linha = pd.DataFrame(np.nan, index=[pmid], columns=database.columns)\n",
    "        \n",
    "    database.to_csv('artigos_partial_HRP_3.csv', encoding='utf-8')\n",
    "    complete_list_authors.to_csv('authors_partial_3.csv', encoding='utf-8', index=False)\n",
    "    \n",
    "database.to_csv('artigos_HRP_v3.csv', encoding='utf-8')\n",
    "complete_list_authors.to_csv('authors_v3.csv', encoding='utf-8', index=False)"
   ]
  },
  {
   "cell_type": "code",
   "execution_count": 69,
   "id": "08f8953b",
   "metadata": {},
   "outputs": [
    {
     "data": {
      "application/vnd.jupyter.widget-view+json": {
       "model_id": "8650a1c2a90f4fa7892529c104e8bda1",
       "version_major": 2,
       "version_minor": 0
      },
      "text/plain": [
       "Summarize dataset:   0%|          | 0/33 [00:00<?, ?it/s]"
      ]
     },
     "metadata": {},
     "output_type": "display_data"
    },
    {
     "data": {
      "application/vnd.jupyter.widget-view+json": {
       "model_id": "f8428ad00070414b92ebb9de0e7ce589",
       "version_major": 2,
       "version_minor": 0
      },
      "text/plain": [
       "Generate report structure:   0%|          | 0/1 [00:00<?, ?it/s]"
      ]
     },
     "metadata": {},
     "output_type": "display_data"
    },
    {
     "data": {
      "application/vnd.jupyter.widget-view+json": {
       "model_id": "c93d350649db4ad89c010d9b52b86d77",
       "version_major": 2,
       "version_minor": 0
      },
      "text/plain": [
       "Render HTML:   0%|          | 0/1 [00:00<?, ?it/s]"
      ]
     },
     "metadata": {},
     "output_type": "display_data"
    },
    {
     "data": {
      "application/vnd.jupyter.widget-view+json": {
       "model_id": "d00a06420b4e49e5bdffae2165001b6d",
       "version_major": 2,
       "version_minor": 0
      },
      "text/plain": [
       "Export report to file:   0%|          | 0/1 [00:00<?, ?it/s]"
      ]
     },
     "metadata": {},
     "output_type": "display_data"
    }
   ],
   "source": [
    "\n",
    "profile = ProfileReport(database, minimal=True)\n",
    "profile.to_file(path + \"papers.html\")"
   ]
  }
 ],
 "metadata": {
  "kernelspec": {
   "display_name": "Python 3",
   "language": "python",
   "name": "python3"
  },
  "language_info": {
   "codemirror_mode": {
    "name": "ipython",
    "version": 3
   },
   "file_extension": ".py",
   "mimetype": "text/x-python",
   "name": "python",
   "nbconvert_exporter": "python",
   "pygments_lexer": "ipython3",
   "version": "3.8.8"
  }
 },
 "nbformat": 4,
 "nbformat_minor": 5
}
